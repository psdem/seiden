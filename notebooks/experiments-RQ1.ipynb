{
 "cells": [
  {
   "cell_type": "code",
   "execution_count": 1,
   "id": "e94e539b-2991-40ae-9a8c-ebf1d9790486",
   "metadata": {},
   "outputs": [],
   "source": [
    "%load_ext autoreload\n",
    "%autoreload 2"
   ]
  },
  {
   "cell_type": "code",
   "execution_count": 2,
   "id": "16394f94-d358-433f-9ca9-66ead924d8eb",
   "metadata": {},
   "outputs": [],
   "source": [
    "\n",
    "import sys\n",
    "sys.path.append('/nethome/jbang36/eko')\n",
    "\n"
   ]
  },
  {
   "cell_type": "code",
   "execution_count": 3,
   "id": "9b98a147-36e0-43d7-89d1-21cb95dd49f3",
   "metadata": {},
   "outputs": [
    {
     "name": "stderr",
     "output_type": "stream",
     "text": [
      "10-13-2022 16:35:15 [info:049]INFO : meta data of the video /srv/data/jbang36/video_data/jackson/video.mp4 is (300000, 300, 300, 3)\n",
      "meta data of the video /srv/data/jbang36/video_data/jackson/video.mp4 is (300000, 300, 300, 3)\n",
      "100%|██████████| 300000/300000 [00:59<00:00, 5074.31it/s]\n"
     ]
    }
   ],
   "source": [
    "#video_names = ['cherry960', 'ua_detrac960', 'dashcam960', 'jackson']\n",
    "video_name = 'jackson'\n",
    "\n",
    "from src.motivation.main import *\n",
    "\n",
    "images = load_dataset(video_name)"
   ]
  },
  {
   "cell_type": "code",
   "execution_count": 4,
   "id": "811b6eb6-5a36-40ad-9267-1136269e4f5d",
   "metadata": {},
   "outputs": [],
   "source": [
    "dataset_dict = {'jackson': {'through': 1 / 308, 'resnet': 5 * 60 + 4}}"
   ]
  },
  {
   "cell_type": "code",
   "execution_count": 5,
   "id": "2b0aa8a9-a678-4b7e-98ea-fb48c8d87b3e",
   "metadata": {},
   "outputs": [
    {
     "data": {
      "text/plain": [
       "(300000, 300, 300, 3)"
      ]
     },
     "execution_count": 5,
     "metadata": {},
     "output_type": "execute_result"
    }
   ],
   "source": [
    "images.shape"
   ]
  },
  {
   "cell_type": "code",
   "execution_count": 6,
   "id": "c3a2c455-cf2e-4021-8af5-f6e757b776ac",
   "metadata": {},
   "outputs": [
    {
     "data": {
      "text/plain": [
       "[300, 1500, 3000, 15000, 30000]"
      ]
     },
     "execution_count": 6,
     "metadata": {},
     "output_type": "execute_result"
    }
   ],
   "source": [
    "## we will run 5 versions\n",
    "### do it in terms of percentage of the overall video --\n",
    "percentages = [0.001, 0.005, 0.01, 0.05, 0.1]\n",
    "length = len(images)\n",
    "anchor_counts = [int(length * percentage) for percentage in percentages]\n",
    "\n",
    "anchor_counts\n",
    "\n"
   ]
  },
  {
   "cell_type": "code",
   "execution_count": 8,
   "id": "3e3a75ef-7928-4c82-91d1-f439d722d1c5",
   "metadata": {},
   "outputs": [],
   "source": [
    "### for jackson, since the image is 300x300 the throughput is 308 fps.\n",
    "\n",
    "through = dataset_dict[video_name]['through']\n",
    "oracle_time = [count * through for count in anchor_counts]\n",
    "oracle_times_eko = [count * 0.8 * through for count in anchor_counts]"
   ]
  },
  {
   "cell_type": "code",
   "execution_count": 9,
   "id": "416d2f11-9ba1-45d7-a471-fffeccfdb229",
   "metadata": {},
   "outputs": [
    {
     "data": {
      "text/plain": [
       "[0.9740259740259741,\n",
       " 4.870129870129871,\n",
       " 9.740259740259742,\n",
       " 48.701298701298704,\n",
       " 97.40259740259741]"
      ]
     },
     "execution_count": 9,
     "metadata": {},
     "output_type": "execute_result"
    }
   ],
   "source": [
    "oracle_time"
   ]
  },
  {
   "cell_type": "code",
   "execution_count": 10,
   "id": "f4c4b455-93be-4ee3-a745-221bbd5f337f",
   "metadata": {},
   "outputs": [
    {
     "data": {
      "text/plain": [
       "[0.7792207792207793,\n",
       " 3.8961038961038965,\n",
       " 7.792207792207793,\n",
       " 38.961038961038966,\n",
       " 77.92207792207793]"
      ]
     },
     "execution_count": 10,
     "metadata": {},
     "output_type": "execute_result"
    }
   ],
   "source": [
    "oracle_times_eko"
   ]
  },
  {
   "cell_type": "code",
   "execution_count": 11,
   "id": "c8aeebd7-90ed-4f0d-8e94-7bae7b7211dd",
   "metadata": {},
   "outputs": [
    {
     "name": "stdout",
     "output_type": "stream",
     "text": [
      "hello world\n"
     ]
    }
   ],
   "source": [
    "print('hello world')"
   ]
  },
  {
   "cell_type": "code",
   "execution_count": 12,
   "id": "46debdf2-1d44-4049-8a54-54e58d881dc3",
   "metadata": {
    "scrolled": true,
    "tags": []
   },
   "outputs": [
    {
     "name": "stdout",
     "output_type": "stream",
     "text": [
      "index initializing....\n",
      "number of training instances:  3000\n",
      "mining complete!\n",
      "training complete!\n",
      "inferring complete!\n"
     ]
    },
    {
     "name": "stderr",
     "output_type": "stream",
     "text": [
      "RandomBucketter: 100%|██████████| 74/74 [00:01<00:00, 43.64it/s]\n",
      "FPFBucketter: 100%|██████████| 225/225 [00:05<00:00, 43.64it/s]\n",
      "100%|██████████| 300000/300000 [00:01<00:00, 177400.66it/s]\n"
     ]
    },
    {
     "name": "stdout",
     "output_type": "stream",
     "text": [
      "bucketing complete!\n"
     ]
    },
    {
     "data": {
      "application/vnd.jupyter.widget-view+json": {
       "model_id": "bb52c3cb64d54822af11afe007cd1d0e",
       "version_major": 2,
       "version_minor": 0
      },
      "text/plain": [
       "Target DNN Invocations:   0%|          | 0/300 [00:00<?, ?it/s]"
      ]
     },
     "metadata": {},
     "output_type": "display_data"
    },
    {
     "name": "stdout",
     "output_type": "stream",
     "text": [
      "index initializing....\n",
      "number of training instances:  3000\n",
      "mining complete!\n",
      "training complete!\n",
      "inferring complete!\n"
     ]
    },
    {
     "name": "stderr",
     "output_type": "stream",
     "text": [
      "RandomBucketter: 100%|██████████| 374/374 [00:08<00:00, 41.75it/s]\n",
      "FPFBucketter: 100%|██████████| 1125/1125 [00:28<00:00, 39.49it/s]\n",
      "100%|██████████| 300000/300000 [00:07<00:00, 39224.27it/s]\n"
     ]
    },
    {
     "name": "stdout",
     "output_type": "stream",
     "text": [
      "bucketing complete!\n"
     ]
    },
    {
     "data": {
      "application/vnd.jupyter.widget-view+json": {
       "model_id": "9a0db80f21ab485b96f764c1be20bfa3",
       "version_major": 2,
       "version_minor": 0
      },
      "text/plain": [
       "Target DNN Invocations:   0%|          | 0/1500 [00:00<?, ?it/s]"
      ]
     },
     "metadata": {},
     "output_type": "display_data"
    },
    {
     "name": "stdout",
     "output_type": "stream",
     "text": [
      "index initializing....\n",
      "number of training instances:  3000\n",
      "mining complete!\n",
      "training complete!\n",
      "inferring complete!\n"
     ]
    },
    {
     "name": "stderr",
     "output_type": "stream",
     "text": [
      "RandomBucketter: 100%|██████████| 749/749 [00:17<00:00, 43.08it/s]\n",
      "FPFBucketter: 100%|██████████| 2250/2250 [00:57<00:00, 39.32it/s]\n",
      "100%|██████████| 300000/300000 [00:21<00:00, 13719.28it/s]\n"
     ]
    },
    {
     "name": "stdout",
     "output_type": "stream",
     "text": [
      "bucketing complete!\n"
     ]
    },
    {
     "data": {
      "application/vnd.jupyter.widget-view+json": {
       "model_id": "f8d9ca2333fc4207a6342c9d831ef224",
       "version_major": 2,
       "version_minor": 0
      },
      "text/plain": [
       "Target DNN Invocations:   0%|          | 0/3000 [00:00<?, ?it/s]"
      ]
     },
     "metadata": {},
     "output_type": "display_data"
    },
    {
     "name": "stdout",
     "output_type": "stream",
     "text": [
      "index initializing....\n",
      "number of training instances:  3000\n",
      "mining complete!\n",
      "training complete!\n",
      "inferring complete!\n"
     ]
    },
    {
     "name": "stderr",
     "output_type": "stream",
     "text": [
      "RandomBucketter: 100%|██████████| 3749/3749 [01:27<00:00, 42.66it/s]\n",
      "FPFBucketter: 100%|██████████| 11250/11250 [04:39<00:00, 40.25it/s]\n",
      "100%|██████████| 300000/300000 [02:16<00:00, 2198.62it/s]\n"
     ]
    },
    {
     "name": "stdout",
     "output_type": "stream",
     "text": [
      "bucketing complete!\n"
     ]
    },
    {
     "data": {
      "application/vnd.jupyter.widget-view+json": {
       "model_id": "f37754d740e44da2b2c3beeb0b746e3a",
       "version_major": 2,
       "version_minor": 0
      },
      "text/plain": [
       "Target DNN Invocations:   0%|          | 0/15000 [00:00<?, ?it/s]"
      ]
     },
     "metadata": {},
     "output_type": "display_data"
    },
    {
     "name": "stdout",
     "output_type": "stream",
     "text": [
      "index initializing....\n",
      "number of training instances:  3000\n",
      "mining complete!\n",
      "training complete!\n",
      "inferring complete!\n"
     ]
    },
    {
     "name": "stderr",
     "output_type": "stream",
     "text": [
      "RandomBucketter: 100%|██████████| 7499/7499 [02:57<00:00, 42.29it/s]\n",
      "FPFBucketter: 100%|██████████| 22500/22500 [09:22<00:00, 40.00it/s]\n",
      "100%|██████████| 300000/300000 [04:55<00:00, 1013.96it/s]\n"
     ]
    },
    {
     "name": "stdout",
     "output_type": "stream",
     "text": [
      "bucketing complete!\n"
     ]
    },
    {
     "data": {
      "application/vnd.jupyter.widget-view+json": {
       "model_id": "18f85ba054644707afc42c508de64a75",
       "version_major": 2,
       "version_minor": 0
      },
      "text/plain": [
       "Target DNN Invocations:   0%|          | 0/30000 [00:00<?, ?it/s]"
      ]
     },
     "metadata": {},
     "output_type": "display_data"
    }
   ],
   "source": [
    "### okay, using the anchor counts, we need to see how much time each method takes. we compare tasti-pt and eko.\n",
    "### we need to measure the individual times... how much does it take to perform inference?\n",
    "### how much for the others?\n",
    "tasti_times = []\n",
    "for anchor_count in anchor_counts:\n",
    "\n",
    "    st = time.perf_counter()\n",
    "\n",
    "    tastipt_results = execute_tastipt(images, video_name, redo = False, nb_buckets = anchor_count)\n",
    "\n",
    "    et = time.perf_counter()\n",
    "    tasti_times.append(et - st)\n"
   ]
  },
  {
   "cell_type": "code",
   "execution_count": null,
   "id": "c1f4e19f-3dd8-422f-affd-b323f4850b20",
   "metadata": {},
   "outputs": [],
   "source": [
    "print('hello world')"
   ]
  },
  {
   "cell_type": "code",
   "execution_count": null,
   "id": "343eb8ef-b230-4759-8d23-5357ae8828dc",
   "metadata": {
    "scrolled": true,
    "tags": []
   },
   "outputs": [],
   "source": [
    "eko_times = []\n",
    "\n",
    "for anchor_count in anchor_counts:\n",
    "\n",
    "    st = time.perf_counter()\n",
    "\n",
    "    ekoalt_results = execute_ekoalt(images, video_name, nb_buckets = anchor_count)\n",
    "\n",
    "    et = time.perf_counter()\n",
    "    eko_times.append(et - st)\n",
    "    "
   ]
  },
  {
   "cell_type": "code",
   "execution_count": null,
   "id": "c37fcf77-4dfc-4b37-b1aa-b5700322c79c",
   "metadata": {},
   "outputs": [],
   "source": [
    "resnet = dataset_dict[video_name]['resnet']\n",
    "tasti_times_full = [ot + time + resnet for ot, time in zip(oracle_time, tasti_times)] \n",
    "tasti_times_full\n"
   ]
  },
  {
   "cell_type": "code",
   "execution_count": null,
   "id": "3c884e78-d45e-49b0-bc5a-a7904665387a",
   "metadata": {},
   "outputs": [],
   "source": [
    "eko_times_full = [ot + et for ot, et in zip(oracle_times_eko, eko_times)]\n",
    "eko_times_full"
   ]
  },
  {
   "cell_type": "code",
   "execution_count": null,
   "id": "9f55dabf-b5a4-4606-955d-54adaa41d62c",
   "metadata": {},
   "outputs": [],
   "source": []
  },
  {
   "cell_type": "code",
   "execution_count": 16,
   "id": "3ffd0fe9-4b32-4206-8279-5b32d4719581",
   "metadata": {},
   "outputs": [
    {
     "data": {
      "text/plain": [
       "[316.16640786265395,\n",
       " 356.26896081666473,\n",
       " 412.35103890275604,\n",
       " 860.2506536121492,\n",
       " 1441.2513208663115]"
      ]
     },
     "execution_count": 16,
     "metadata": {},
     "output_type": "execute_result"
    }
   ],
   "source": [
    "#### save these results\n",
    "#### draw the line graph that we have in mind\n",
    "\n",
    "tasti_times_full\n",
    "\n"
   ]
  },
  {
   "cell_type": "code",
   "execution_count": 17,
   "id": "28dca36e-7542-44ae-88f2-8187c468b90a",
   "metadata": {},
   "outputs": [
    {
     "data": {
      "text/plain": [
       "[2.8697373091981007,\n",
       " 6.006028089575567,\n",
       " 9.697213031158046,\n",
       " 40.8703838279108,\n",
       " 79.83879175588683]"
      ]
     },
     "execution_count": 17,
     "metadata": {},
     "output_type": "execute_result"
    }
   ],
   "source": [
    "eko_times_full\n"
   ]
  },
  {
   "cell_type": "code",
   "execution_count": 18,
   "id": "05cc7b35-8ffb-4b1a-abdb-0e0015e12930",
   "metadata": {},
   "outputs": [
    {
     "data": {
      "text/plain": [
       "[0.001, 0.005, 0.01, 0.05, 0.1]"
      ]
     },
     "execution_count": 18,
     "metadata": {},
     "output_type": "execute_result"
    }
   ],
   "source": [
    "percentages"
   ]
  },
  {
   "cell_type": "code",
   "execution_count": 2,
   "id": "96ebafc6-0c77-4b65-8267-baa680c0f988",
   "metadata": {},
   "outputs": [],
   "source": [
    "\n",
    "x_axis = [0.001, 0.005, 0.01, 0.05, 0.1]\n",
    "cherry_tasti = [633.3372804836503, 639.043707535203, 647.2957338440631, 714.3713716172747, 799.0932688484235]\n",
    "cherry_eko = [1.5190060740070683,\n",
    " 3.9333909255053316,\n",
    " 6.595604946570737,\n",
    " 29.631299779351266,\n",
    " 58.02913059028131]\n",
    "detrac_tasti = [526.5800948645388,\n",
    " 530.7852064362594,\n",
    " 536.436114656393,\n",
    " 587.5003901263433,\n",
    " 652.747490400821]\n",
    "detrac_eko = [4.668228819923741,\n",
    " 6.991199927840914,\n",
    " 8.517439313701221,\n",
    " 28.159733620264703,\n",
    " 51.52101091399789]\n",
    "dashcam_tasti = [473.9196554551167,\n",
    " 477.9584411782878,\n",
    " 482.7448940779482,\n",
    " 527.1068221661661,\n",
    " 576.8626969150134]\n",
    "dashcam_eko = [1.9541657155965055,\n",
    " 3.684747119971684,\n",
    " 5.832442472832543,\n",
    " 22.993317091869457,\n",
    " 44.10344604036638]\n",
    "jackson_tasti = [316.16640786265395,\n",
    " 356.26896081666473,\n",
    " 412.35103890275604,\n",
    " 860.2506536121492,\n",
    " 1441.2513208663115]\n",
    "jackson_eko = [2.8697373091981007,\n",
    " 6.006028089575567,\n",
    " 9.697213031158046,\n",
    " 40.8703838279108,\n",
    " 79.83879175588683]\n"
   ]
  },
  {
   "cell_type": "code",
   "execution_count": 3,
   "id": "a465cecf-8bf7-423d-b4da-4f331f3f76ad",
   "metadata": {},
   "outputs": [
    {
     "data": {
      "image/png": "[encoded data removed]",
      "text/plain": [
       "<Figure size 1152x216 with 4 Axes>"
      ]
     },
     "metadata": {
      "needs_background": "light"
     },
     "output_type": "display_data"
    }
   ],
   "source": [
    "import numpy as np\n",
    "import matplotlib.pyplot as plt\n",
    "%matplotlib inline\n",
    "import matplotlib\n",
    "\n",
    "font = {\n",
    "        'weight' : 'bold',\n",
    "        'size'   : 15}\n",
    "\n",
    "matplotlib.rc('font', **font)\n",
    "matplotlib.rc('ytick', labelsize=15)\n",
    "\n",
    "\n",
    "x_axis_names = ['0.1%', '0.5%', '1%', '5%', '10%']\n",
    "\n",
    "x = np.arange(len(x_axis_names))\n",
    "width = 0.2\n",
    "\n",
    "\n",
    "### we need to do subplots\n",
    "rows = 1\n",
    "columns = 4\n",
    "fig_size = (16, 3)\n",
    "fig, axes = plt.subplots(rows, columns, sharey=True, sharex=True, figsize=fig_size)\n",
    "\n",
    "\n",
    "i = 0\n",
    "j = 0\n",
    "axes[i].plot(x_axis_names, cherry_tasti, label = 'TASTI-PT', linewidth = 3, marker = 'o', markersize = 10)\n",
    "axes[i].plot(x_axis_names, cherry_eko, label = 'SEIDEN', linewidth = 3, color = 'lightsteelblue', marker = '^', markersize = 10)\n",
    "axes[i].set_ylabel('Time (s)', weight = 'bold', size = 15)\n",
    "axes[i].set_yticks([0, 500, 1000, 1500])\n",
    "#plt.ylim(0, 2)\n",
    "#plt.xticks(x, x_axis_names)\n",
    "axes[i].set_title('Cherry', weight = 'bold', size = 15)\n",
    "axes[i].set_xlabel('Sampling Budget', weight = 'bold', size = 15)\n",
    "\n",
    "\n",
    "i = 1\n",
    "# j = 1\n",
    "axes[i].plot(x_axis_names, detrac_tasti, label = 'TASTI-PT', linewidth = 3, marker = 'o', markersize = 10)\n",
    "axes[i].plot(x_axis_names, detrac_eko, label = 'SEIDEN', linewidth = 3, color = 'lightsteelblue', marker = '^', markersize = 10)\n",
    "axes[i].set_title('UA-DETRAC', weight = 'bold', size = 15)\n",
    "\n",
    "\n",
    "i = 2\n",
    "# j = 0\n",
    "axes[i].plot(x_axis_names, dashcam_tasti, label = 'TASTI-PT', linewidth = 3, marker = 'o', markersize = 10)\n",
    "axes[i].plot(x_axis_names, dashcam_eko, label = 'SEIDEN', linewidth = 3, color = 'lightsteelblue', marker = '^', markersize = 10)\n",
    "\n",
    "axes[i].set_title('Dashcam', weight = 'bold', size = 15)\n",
    "\n",
    "\n",
    "i = 3\n",
    "# j = 1\n",
    "axes[i].plot(x_axis_names, jackson_tasti, label = 'TASTI-PT', linewidth = 3, marker = 'o', markersize = 10)\n",
    "axes[i].plot(x_axis_names, jackson_eko, label = 'SEIDEN', linewidth = 3, color = 'lightsteelblue', marker = '^', markersize = 10)\n",
    "axes[i].set_title('Jackson', weight = 'bold', size = 15)\n",
    "#axes[i][j].set_xlabel('Anchor Percentage', weight = 'bold', size = 15)\n",
    "\n",
    "\n",
    "fig.tight_layout()\n",
    "\n",
    "plt.legend(loc='upper center', bbox_to_anchor=(-3, 1.5),\n",
    "          fancybox=True, shadow=True, ncol=10)\n",
    "#plt.legend()\n",
    "\n",
    "plt.savefig('plots/index-construction1.png', bbox_inches='tight')\n",
    "plt.show()\n",
    "\n",
    "\n"
   ]
  },
  {
   "cell_type": "code",
   "execution_count": 25,
   "id": "8d713447-62c1-4d64-9a43-58c7b434db48",
   "metadata": {},
   "outputs": [
    {
     "data": {
      "text/plain": [
       "([633.3372804836503,\n",
       "  639.043707535203,\n",
       "  647.2957338440631,\n",
       "  714.3713716172747,\n",
       "  799.0932688484235],\n",
       " [1.5190060740070683,\n",
       "  3.9333909255053316,\n",
       "  6.595604946570737,\n",
       "  29.631299779351266,\n",
       "  58.02913059028131])"
      ]
     },
     "execution_count": 25,
     "metadata": {},
     "output_type": "execute_result"
    }
   ],
   "source": [
    "cherry_tasti, cherry_eko"
   ]
  },
  {
   "cell_type": "code",
   "execution_count": 28,
   "id": "01e3f1bf-c9a3-46f6-8718-e18ac186499c",
   "metadata": {},
   "outputs": [
    {
     "data": {
      "text/plain": [
       "([316.16640786265395,\n",
       "  356.26896081666473,\n",
       "  412.35103890275604,\n",
       "  860.2506536121492,\n",
       "  1441.2513208663115],\n",
       " [2.8697373091981007,\n",
       "  6.006028089575567,\n",
       "  9.697213031158046,\n",
       "  40.8703838279108,\n",
       "  79.83879175588683])"
      ]
     },
     "execution_count": 28,
     "metadata": {},
     "output_type": "execute_result"
    }
   ],
   "source": [
    "jackson_tasti, jackson_eko"
   ]
  },
  {
   "cell_type": "code",
   "execution_count": 29,
   "id": "ae8d86a9-a545-4785-93fe-70db91126147",
   "metadata": {},
   "outputs": [
    {
     "data": {
      "text/plain": [
       "21.5"
      ]
     },
     "execution_count": 29,
     "metadata": {},
     "output_type": "execute_result"
    }
   ],
   "source": [
    "860 / 40"
   ]
  },
  {
   "cell_type": "code",
   "execution_count": 26,
   "id": "db1df53f-94ac-4472-aee0-4dcefc3f27a9",
   "metadata": {},
   "outputs": [
    {
     "data": {
      "text/plain": [
       "422.0"
      ]
     },
     "execution_count": 26,
     "metadata": {},
     "output_type": "execute_result"
    }
   ],
   "source": [
    "633 / 1.5"
   ]
  },
  {
   "cell_type": "code",
   "execution_count": 27,
   "id": "506d82a7-bfa1-42f9-b5f6-38cdcb65cb95",
   "metadata": {},
   "outputs": [
    {
     "data": {
      "text/plain": [
       "13.775862068965518"
      ]
     },
     "execution_count": 27,
     "metadata": {},
     "output_type": "execute_result"
    }
   ],
   "source": [
    "799 / 58"
   ]
  },
  {
   "cell_type": "code",
   "execution_count": 14,
   "id": "98ca2693-09d6-438c-95f8-11f3865af498",
   "metadata": {},
   "outputs": [
    {
     "data": {
      "text/plain": [
       "143.0855909839246"
      ]
     },
     "execution_count": 14,
     "metadata": {},
     "output_type": "execute_result"
    }
   ],
   "source": [
    "np.average(np.array(cherry_tasti) / np.array(cherry_eko))"
   ]
  },
  {
   "cell_type": "code",
   "execution_count": 21,
   "id": "00ac4db8-410a-426d-b1cc-b10b1d66e7b5",
   "metadata": {},
   "outputs": [
    {
     "data": {
      "text/plain": [
       "57.04726534440313"
      ]
     },
     "execution_count": 21,
     "metadata": {},
     "output_type": "execute_result"
    }
   ],
   "source": [
    "np.average(np.array(detrac_tasti) / np.array(detrac_eko))"
   ]
  },
  {
   "cell_type": "code",
   "execution_count": 22,
   "id": "c4829500-d2af-4c6f-8b86-ebb29f315ea5",
   "metadata": {},
   "outputs": [
    {
     "data": {
      "text/plain": [
       "98.20066901643699"
      ]
     },
     "execution_count": 22,
     "metadata": {},
     "output_type": "execute_result"
    }
   ],
   "source": [
    "np.average(np.array(dashcam_tasti) / np.array(dashcam_eko))"
   ]
  },
  {
   "cell_type": "code",
   "execution_count": 15,
   "id": "c6282111-6cdb-4a47-89d8-e6b7b8dd6e22",
   "metadata": {},
   "outputs": [
    {
     "data": {
      "text/plain": [
       "50.22281520680913"
      ]
     },
     "execution_count": 15,
     "metadata": {},
     "output_type": "execute_result"
    }
   ],
   "source": [
    "np.average(np.array(jackson_tasti) / np.array(jackson_eko))"
   ]
  },
  {
   "cell_type": "code",
   "execution_count": 23,
   "id": "b5da2c00-9781-4f70-9dc2-2bdccc14b834",
   "metadata": {},
   "outputs": [
    {
     "data": {
      "text/plain": [
       "87.0"
      ]
     },
     "execution_count": 23,
     "metadata": {},
     "output_type": "execute_result"
    }
   ],
   "source": [
    "np.average([143, 57, 98, 50])"
   ]
  },
  {
   "cell_type": "code",
   "execution_count": null,
   "id": "bc63aad6-d38e-421f-8ddc-1401cd57219a",
   "metadata": {},
   "outputs": [],
   "source": []
  },
  {
   "cell_type": "code",
   "execution_count": null,
   "id": "0341a9b2-278b-43b9-9f7b-c2de447d2cfc",
   "metadata": {},
   "outputs": [],
   "source": []
  },
  {
   "cell_type": "code",
   "execution_count": null,
   "id": "736c280d-51ce-4abd-92c8-fa82411068c3",
   "metadata": {},
   "outputs": [],
   "source": []
  },
  {
   "cell_type": "code",
   "execution_count": null,
   "id": "1f3a0dde-2ca9-4017-b11a-c1393bb4009e",
   "metadata": {},
   "outputs": [],
   "source": []
  },
  {
   "cell_type": "code",
   "execution_count": null,
   "id": "06c777ff-75d2-40cc-b5fc-da28d2f05f5c",
   "metadata": {},
   "outputs": [],
   "source": []
  },
  {
   "cell_type": "code",
   "execution_count": 26,
   "id": "daea48dd-3d36-4493-bb58-5712b0c0409d",
   "metadata": {},
   "outputs": [
    {
     "data": {
      "text/plain": [
       "[1.7200964258185456,\n",
       " 4.558047913547073,\n",
       " 8.287958727351256,\n",
       " 36.68458058099662,\n",
       " 72.58144926599094]"
      ]
     },
     "execution_count": 26,
     "metadata": {},
     "output_type": "execute_result"
    }
   ],
   "source": [
    "cherry_eko"
   ]
  },
  {
   "cell_type": "code",
   "execution_count": null,
   "id": "884d31f8-5bf8-4eb1-aeb5-1442521ded5e",
   "metadata": {},
   "outputs": [],
   "source": []
  },
  {
   "cell_type": "code",
   "execution_count": null,
   "id": "aa10d0bb-2a0f-455c-bf5a-c0c2de90a63c",
   "metadata": {},
   "outputs": [],
   "source": []
  },
  {
   "cell_type": "code",
   "execution_count": null,
   "id": "9c2579f9-2abb-42c6-b459-58f31cdee4c2",
   "metadata": {},
   "outputs": [],
   "source": []
  },
  {
   "cell_type": "code",
   "execution_count": 5,
   "id": "6948f0f2-e3b5-4a6c-9720-bd5911ab525c",
   "metadata": {},
   "outputs": [
    {
     "name": "stdout",
     "output_type": "stream",
     "text": [
      "cuda\n"
     ]
    },
    {
     "name": "stderr",
     "output_type": "stream",
     "text": [
      "100%|██████████| 9360/9360 [10:47<00:00, 14.45it/s]"
     ]
    },
    {
     "name": "stdout",
     "output_type": "stream",
     "text": [
      "total time 650.3217417187989 seconds\n"
     ]
    },
    {
     "name": "stderr",
     "output_type": "stream",
     "text": [
      "\n"
     ]
    }
   ],
   "source": [
    "### run resnet-18\n",
    "\n",
    "from src.motivation.main import *\n",
    "\n",
    "import time\n",
    "\n",
    "st = time.perf_counter()\n",
    "\n",
    "resnet_results = execute_resnet(images)\n",
    "\n",
    "et = time.perf_counter()\n",
    "\n",
    "print('total time', et - st, 'seconds')\n"
   ]
  },
  {
   "cell_type": "code",
   "execution_count": 6,
   "id": "e65394de-e479-4f5b-b9fd-2da0e17dfce3",
   "metadata": {},
   "outputs": [
    {
     "name": "stderr",
     "output_type": "stream",
     "text": [
      "Using cache found in /nethome/jbang36/.cache/torch/hub/ultralytics_yolov5_master\n",
      "YOLOv5 🚀 2022-3-2 torch 1.10.2 CUDA:0 (NVIDIA GeForce RTX 2080 Ti, 11019MiB)\n",
      "\n",
      "Fusing layers... \n",
      "Model Summary: 213 layers, 7225885 parameters, 0 gradients, 16.5 GFLOPs\n",
      "Adding AutoShape... \n"
     ]
    },
    {
     "name": "stdout",
     "output_type": "stream",
     "text": [
      "cuda\n"
     ]
    },
    {
     "name": "stderr",
     "output_type": "stream",
     "text": [
      "100%|██████████| 9360/9360 [10:36<00:00, 14.70it/s]\n"
     ]
    },
    {
     "name": "stdout",
     "output_type": "stream",
     "text": [
      "total time 637.4774718210101 seconds\n"
     ]
    }
   ],
   "source": [
    "## Run Yolov5\n",
    "\n",
    "st = time.perf_counter()\n",
    "\n",
    "yolo_results = execute_yolo2(images)\n",
    "\n",
    "et = time.perf_counter()\n",
    "\n",
    "print('total time', et - st, 'seconds')\n"
   ]
  },
  {
   "cell_type": "code",
   "execution_count": null,
   "id": "30fcd8c5-f304-4cc7-9a78-4333447a44f5",
   "metadata": {},
   "outputs": [
    {
     "name": "stdout",
     "output_type": "stream",
     "text": [
      "index initializing....\n",
      "number of training instances:  3000\n",
      "mining complete!\n",
      "training complete!\n"
     ]
    },
    {
     "data": {
      "application/vnd.jupyter.widget-view+json": {
       "model_id": "29d5225171d243b59c16fc51fba68c27",
       "version_major": 2,
       "version_minor": 0
      },
      "text/plain": [
       "Inference:   0%|          | 0/4680 [00:00<?, ?it/s]"
      ]
     },
     "metadata": {},
     "output_type": "display_data"
    },
    {
     "name": "stdout",
     "output_type": "stream",
     "text": [
      "inferring complete!\n"
     ]
    },
    {
     "name": "stderr",
     "output_type": "stream",
     "text": [
      "RandomBucketter: 100%|██████████| 2499/2499 [00:12<00:00, 198.96it/s]\n",
      "FPFBucketter: 100%|██████████| 7500/7500 [00:42<00:00, 175.58it/s]\n",
      " 36%|███▌      | 26987/74880 [00:07<00:13, 3570.02it/s]"
     ]
    }
   ],
   "source": [
    "### run tasti-pt\n",
    "\n",
    "st = time.perf_counter()\n",
    "\n",
    "tastipt_results = execute_tastipt(images, video_name, nb_buckets = 10000)\n",
    "\n",
    "et = time.perf_counter()\n",
    "\n",
    "print('total time', et - st, 'seconds')\n"
   ]
  },
  {
   "cell_type": "code",
   "execution_count": 17,
   "id": "6cbbc94e-c7a3-47a1-991b-7fe644076b8f",
   "metadata": {},
   "outputs": [
    {
     "name": "stdout",
     "output_type": "stream",
     "text": [
      "index initializing....\n",
      "number of training instances:  1\n",
      "mining complete!\n",
      "training complete!\n",
      "inferring complete!\n",
      "rep indices stats 10000 5349\n",
      "5350 10000\n",
      "bucketing complete!\n"
     ]
    },
    {
     "data": {
      "application/vnd.jupyter.widget-view+json": {
       "model_id": "5e3e47cc3675489d966cee16485abab6",
       "version_major": 2,
       "version_minor": 0
      },
      "text/plain": [
       "Target DNN Invocations:   0%|          | 0/5350 [00:00<?, ?it/s]"
      ]
     },
     "metadata": {},
     "output_type": "display_data"
    },
    {
     "name": "stdout",
     "output_type": "stream",
     "text": [
      "total time 1.5877264514565468 seconds\n"
     ]
    }
   ],
   "source": [
    "### run eko-alt\n",
    "\n",
    "\n",
    "st = time.perf_counter()\n",
    "\n",
    "ekoalt_results = execute_ekoalt(images, video_name, nb_buckets = 10000)\n",
    "\n",
    "et = time.perf_counter()\n",
    "\n",
    "print('total time', et - st, 'seconds')\n"
   ]
  },
  {
   "cell_type": "code",
   "execution_count": null,
   "id": "f0a6a5d8-10ac-438e-8058-459b4ab8631b",
   "metadata": {},
   "outputs": [],
   "source": [
    "### what we can do is designate a lot of the frames to query "
   ]
  },
  {
   "cell_type": "code",
   "execution_count": null,
   "id": "a9679ded-08ec-420e-87b1-cf00f4772a89",
   "metadata": {},
   "outputs": [],
   "source": [
    "### we will show 6 graphs, 3 upper graphs will be regarding the difference in time taken when we adjust the total number of anchors\n",
    "\n",
    "\n",
    "\n",
    "\n"
   ]
  },
  {
   "cell_type": "code",
   "execution_count": null,
   "id": "13a6f431-7350-47de-a776-038872e1290a",
   "metadata": {},
   "outputs": [],
   "source": []
  },
  {
   "cell_type": "code",
   "execution_count": null,
   "id": "3b816957-59a9-466b-9d81-8f6bf0c7f269",
   "metadata": {},
   "outputs": [],
   "source": []
  },
  {
   "cell_type": "code",
   "execution_count": null,
   "id": "213e52e1-9bd3-44c1-8c7d-9ec67849a27c",
   "metadata": {},
   "outputs": [],
   "source": []
  },
  {
   "cell_type": "code",
   "execution_count": null,
   "id": "92e09b28-b86e-4720-b6be-ea9891168937",
   "metadata": {},
   "outputs": [],
   "source": [
    "#### TODO: Need to add invocations!!!"
   ]
  },
  {
   "cell_type": "code",
   "execution_count": 16,
   "id": "692c0b21-2c0f-46f4-96c9-4494eb26ace8",
   "metadata": {},
   "outputs": [
    {
     "data": {
      "image/png": "[encoded data removed]",
      "text/plain": [
       "<Figure size 720x216 with 1 Axes>"
      ]
     },
     "metadata": {
      "needs_background": "light"
     },
     "output_type": "display_data"
    }
   ],
   "source": [
    "\n",
    "import numpy as np\n",
    "import matplotlib.pyplot as plt\n",
    "%matplotlib inline\n",
    "### drawing function for the graph\n",
    "\n",
    "x_axis_names = ['Resnet-18', 'YOLOv5', 'TASTI-PT', 'EKO']\n",
    "cherry_values = [571, 564, 708, 1.3]\n",
    "ua_values = [717, 715, 600, 4.5]\n",
    "da_values = [500, 550, 420, 2.7]\n",
    "\n",
    "# x = np.arange(len(x_axis_names))\n",
    "# width = 0.2\n",
    "\n",
    "plt.figure(figsize = (10,3))\n",
    "\n",
    "plt.bar(x - width, cherry_values, width, label = 'Cherry')\n",
    "plt.bar(x, ua_values, width, label = 'UA_DETRAC')\n",
    "plt.bar(x + width, da_values, width, label = 'Dashcam')\n",
    "\n",
    "plt.ylabel('Time (s)')\n",
    "plt.xticks(x, x_axis_names)\n",
    "plt.legend()\n",
    "plt.show()\n",
    "\n"
   ]
  },
  {
   "cell_type": "code",
   "execution_count": 18,
   "id": "f4300081-04c0-4bb9-8c36-751457d4e7aa",
   "metadata": {},
   "outputs": [
    {
     "data": {
      "text/plain": [
       "array([[        571,         564,         708,         1.3],\n",
       "       [        717,         715,         600,         4.5],\n",
       "       [        500,         550,         420,         2.7]])"
      ]
     },
     "execution_count": 18,
     "metadata": {},
     "output_type": "execute_result"
    }
   ],
   "source": [
    "tmp = np.array([cherry_values, ua_values, da_values])\n",
    "tmp"
   ]
  },
  {
   "cell_type": "code",
   "execution_count": 21,
   "id": "9bff4dc7-24ea-47f6-9b4a-73707e6d1e1a",
   "metadata": {},
   "outputs": [
    {
     "data": {
      "text/plain": [
       "array([        596,      609.67,         576,      2.8333])"
      ]
     },
     "execution_count": 21,
     "metadata": {},
     "output_type": "execute_result"
    }
   ],
   "source": [
    "tmp.mean(axis = 0)"
   ]
  },
  {
   "cell_type": "code",
   "execution_count": null,
   "id": "882ffaa9-e0b9-4b79-a65d-ea48dec4bc49",
   "metadata": {},
   "outputs": [],
   "source": [
    "import matplotlib.pyplot as plt\n",
    "import numpy as np\n",
    "\n",
    "\n",
    "labels = ['G1', 'G2', 'G3', 'G4', 'G5']\n",
    "men_means = [20, 34, 30, 35, 27]\n",
    "women_means = [25, 32, 34, 20, 25]\n",
    "\n",
    "x = np.arange(len(labels))  # the label locations\n",
    "width = 0.35  # the width of the bars\n",
    "\n",
    "fig, ax = plt.subplots()\n",
    "rects1 = ax.bar(x - width/2, men_means, width, label='Men')\n",
    "rects2 = ax.bar(x + width/2, women_means, width, label='Women')\n",
    "\n",
    "# Add some text for labels, title and custom x-axis tick labels, etc.\n",
    "ax.set_ylabel('Scores')\n",
    "ax.set_title('Scores by group and gender')\n",
    "ax.set_xticks(x, labels)\n",
    "ax.legend()\n",
    "\n",
    "ax.bar_label(rects1, padding=3)\n",
    "ax.bar_label(rects2, padding=3)\n",
    "\n",
    "fig.tight_layout()\n",
    "\n",
    "plt.show()"
   ]
  }
 ],
 "metadata": {
  "kernelspec": {
   "display_name": "Python 3",
   "language": "python",
   "name": "python3"
  },
  "language_info": {
   "codemirror_mode": {
    "name": "ipython",
    "version": 3
   },
   "file_extension": ".py",
   "mimetype": "text/x-python",
   "name": "python",
   "nbconvert_exporter": "python",
   "pygments_lexer": "ipython3",
   "version": "3.9.7"
  }
 },
 "nbformat": 4,
 "nbformat_minor": 5
}
