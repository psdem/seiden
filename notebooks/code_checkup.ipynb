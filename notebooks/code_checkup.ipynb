{
 "cells": [
  {
   "cell_type": "code",
   "execution_count": 1,
   "id": "1997490d-1035-4b54-ab3b-881fb43d5d99",
   "metadata": {},
   "outputs": [],
   "source": [
    "%load_ext autoreload\n",
    "%autoreload 2"
   ]
  },
  {
   "cell_type": "code",
   "execution_count": 2,
   "id": "c2729cd7-af7f-4a59-a7af-ba9d43706501",
   "metadata": {},
   "outputs": [],
   "source": [
    "# import sys\n",
    "# sys.path.append('/nethome/jbang36/eko')"
   ]
  },
  {
   "cell_type": "markdown",
   "id": "97f23390-9ac0-4ffa-a817-76d6efaddd5a",
   "metadata": {},
   "source": [
    "\n",
    "\n",
    "### check running EKO"
   ]
  },
  {
   "cell_type": "code",
   "execution_count": 4,
   "id": "92fab54f-961b-46e8-b0eb-906e7908142a",
   "metadata": {},
   "outputs": [
    {
     "name": "stderr",
     "output_type": "stream",
     "text": [
      "09-14-2022 16:04:33 [info:049]INFO : meta data of the video /srv/data/jbang36/video_data/cherry/video.mp4 is (100000, 240, 360, 3)\n",
      "meta data of the video /srv/data/jbang36/video_data/cherry/video.mp4 is (100000, 240, 360, 3)\n",
      "100%|██████████| 100000/100000 [00:19<00:00, 5051.59it/s]\n"
     ]
    }
   ],
   "source": [
    "from src.motivation.main import *\n",
    "import time\n",
    "\n",
    "video_name = 'cherry'\n",
    "st = time.perf_counter()\n",
    "\n",
    "images = load_dataset(video_name)\n",
    "\n",
    "et = time.perf_counter() - st"
   ]
  },
  {
   "cell_type": "code",
   "execution_count": 10,
   "id": "de73078d-8cd8-47d7-b5b6-2ac7adaad660",
   "metadata": {},
   "outputs": [
    {
     "data": {
      "text/plain": [
       "(100000, 240, 360, 3)"
      ]
     },
     "execution_count": 10,
     "metadata": {},
     "output_type": "execute_result"
    }
   ],
   "source": [
    "images.shape"
   ]
  },
  {
   "cell_type": "code",
   "execution_count": 5,
   "id": "a4550e0e-b2d5-444d-97ba-6da4f8f0db97",
   "metadata": {
    "scrolled": true,
    "tags": []
   },
   "outputs": [
    {
     "name": "stdout",
     "output_type": "stream",
     "text": [
      "index initializing....\n",
      "1\n",
      "mining complete!\n",
      "training complete!\n",
      "inferring complete!\n",
      "rep indices stats 1000 500\n",
      "501 1000\n",
      "bucketing complete!\n"
     ]
    },
    {
     "data": {
      "application/vnd.jupyter.widget-view+json": {
       "model_id": "fb0862956b6b4782b285d5d6af89befc",
       "version_major": 2,
       "version_minor": 0
      },
      "text/plain": [
       "Target DNN Invocations:   0%|          | 0/501 [00:00<?, ?it/s]"
      ]
     },
     "metadata": {},
     "output_type": "display_data"
    },
    {
     "data": {
      "application/vnd.jupyter.widget-view+json": {
       "model_id": "666b30b4ae79424c98db12d59da7ad29",
       "version_major": 2,
       "version_minor": 0
      },
      "text/plain": [
       "Propagation:   0%|          | 0/100000 [00:00<?, ?it/s]"
      ]
     },
     "metadata": {},
     "output_type": "display_data"
    },
    {
     "data": {
      "application/vnd.jupyter.widget-view+json": {
       "model_id": "78d5a6fa1945495f9fbfc51139269bf1",
       "version_major": 2,
       "version_minor": 0
      },
      "text/plain": [
       "Propagation:   0%|          | 0/100000 [00:00<?, ?it/s]"
      ]
     },
     "metadata": {},
     "output_type": "display_data"
    },
    {
     "name": "stderr",
     "output_type": "stream",
     "text": [
      "/srv/data/jbang36/anaconda3/envs/eko22/lib/python3.9/site-packages/sklearn/metrics/_classification.py:1318: UndefinedMetricWarning: Precision is ill-defined and being set to 0.0 due to no predicted samples. Use `zero_division` parameter to control this behavior.\n",
      "  _warn_prf(average, modifier, msg_start, len(result))\n",
      "/srv/data/jbang36/anaconda3/envs/eko22/lib/python3.9/site-packages/sklearn/metrics/_classification.py:1318: UndefinedMetricWarning: Recall is ill-defined and being set to 0.0 due to no true samples. Use `zero_division` parameter to control this behavior.\n",
      "  _warn_prf(average, modifier, msg_start, len(result))\n",
      "/srv/data/jbang36/anaconda3/envs/eko22/lib/python3.9/site-packages/sklearn/metrics/_classification.py:1580: UndefinedMetricWarning: F-score is ill-defined and being set to 0.0 due to no true nor predicted samples. Use `zero_division` parameter to control this behavior.\n",
      "  _warn_prf(average, \"true nor predicted\", \"F-score is\", len(true_sum))\n"
     ]
    },
    {
     "data": {
      "application/vnd.jupyter.widget-view+json": {
       "model_id": "fca039f185e04433a3959faf6930aedb",
       "version_major": 2,
       "version_minor": 0
      },
      "text/plain": [
       "Propagation:   0%|          | 0/100000 [00:00<?, ?it/s]"
      ]
     },
     "metadata": {},
     "output_type": "display_data"
    },
    {
     "name": "stderr",
     "output_type": "stream",
     "text": [
      "/srv/data/jbang36/anaconda3/envs/eko22/lib/python3.9/site-packages/sklearn/metrics/_classification.py:1318: UndefinedMetricWarning: Precision is ill-defined and being set to 0.0 due to no predicted samples. Use `zero_division` parameter to control this behavior.\n",
      "  _warn_prf(average, modifier, msg_start, len(result))\n",
      "/srv/data/jbang36/anaconda3/envs/eko22/lib/python3.9/site-packages/sklearn/metrics/_classification.py:1318: UndefinedMetricWarning: Recall is ill-defined and being set to 0.0 due to no true samples. Use `zero_division` parameter to control this behavior.\n",
      "  _warn_prf(average, modifier, msg_start, len(result))\n",
      "/srv/data/jbang36/anaconda3/envs/eko22/lib/python3.9/site-packages/sklearn/metrics/_classification.py:1580: UndefinedMetricWarning: F-score is ill-defined and being set to 0.0 due to no true nor predicted samples. Use `zero_division` parameter to control this behavior.\n",
      "  _warn_prf(average, \"true nor predicted\", \"F-score is\", len(true_sum))\n"
     ]
    },
    {
     "data": {
      "application/vnd.jupyter.widget-view+json": {
       "model_id": "4339e55d49394e9f92ff4b2c3e9c6015",
       "version_major": 2,
       "version_minor": 0
      },
      "text/plain": [
       "Propagation:   0%|          | 0/100000 [00:00<?, ?it/s]"
      ]
     },
     "metadata": {},
     "output_type": "display_data"
    },
    {
     "name": "stderr",
     "output_type": "stream",
     "text": [
      "/srv/data/jbang36/anaconda3/envs/eko22/lib/python3.9/site-packages/sklearn/metrics/_classification.py:1318: UndefinedMetricWarning: Precision is ill-defined and being set to 0.0 due to no predicted samples. Use `zero_division` parameter to control this behavior.\n",
      "  _warn_prf(average, modifier, msg_start, len(result))\n",
      "/srv/data/jbang36/anaconda3/envs/eko22/lib/python3.9/site-packages/sklearn/metrics/_classification.py:1318: UndefinedMetricWarning: Recall is ill-defined and being set to 0.0 due to no true samples. Use `zero_division` parameter to control this behavior.\n",
      "  _warn_prf(average, modifier, msg_start, len(result))\n",
      "/srv/data/jbang36/anaconda3/envs/eko22/lib/python3.9/site-packages/sklearn/metrics/_classification.py:1580: UndefinedMetricWarning: F-score is ill-defined and being set to 0.0 due to no true nor predicted samples. Use `zero_division` parameter to control this behavior.\n",
      "  _warn_prf(average, \"true nor predicted\", \"F-score is\", len(true_sum))\n"
     ]
    },
    {
     "data": {
      "application/vnd.jupyter.widget-view+json": {
       "model_id": "53dd176947474c9eb0ef043e353bc01b",
       "version_major": 2,
       "version_minor": 0
      },
      "text/plain": [
       "Propagation:   0%|          | 0/100000 [00:00<?, ?it/s]"
      ]
     },
     "metadata": {},
     "output_type": "display_data"
    },
    {
     "name": "stdout",
     "output_type": "stream",
     "text": [
      "ekos [(0.930381191508788, 0.9087260890890445, 0.9194261481548318), (0.0, 0.0, 0.0), (0.0, 0.0, 0.0), (0.0, 0.0, 0.0), (0.0, 0.0, 0.0)]\n"
     ]
    },
    {
     "name": "stderr",
     "output_type": "stream",
     "text": [
      "/srv/data/jbang36/anaconda3/envs/eko22/lib/python3.9/site-packages/sklearn/metrics/_classification.py:1318: UndefinedMetricWarning: Precision is ill-defined and being set to 0.0 due to no predicted samples. Use `zero_division` parameter to control this behavior.\n",
      "  _warn_prf(average, modifier, msg_start, len(result))\n",
      "/srv/data/jbang36/anaconda3/envs/eko22/lib/python3.9/site-packages/sklearn/metrics/_classification.py:1318: UndefinedMetricWarning: Recall is ill-defined and being set to 0.0 due to no true samples. Use `zero_division` parameter to control this behavior.\n",
      "  _warn_prf(average, modifier, msg_start, len(result))\n",
      "/srv/data/jbang36/anaconda3/envs/eko22/lib/python3.9/site-packages/sklearn/metrics/_classification.py:1580: UndefinedMetricWarning: F-score is ill-defined and being set to 0.0 due to no true nor predicted samples. Use `zero_division` parameter to control this behavior.\n",
      "  _warn_prf(average, \"true nor predicted\", \"F-score is\", len(true_sum))\n"
     ]
    }
   ],
   "source": [
    "### Run ekos\n",
    "\n",
    "from src.system_architecture.main import *\n",
    "\n",
    "eko_alt = execute_ekoalt(images, video_name, nb_buckets = 1000)\n",
    "from src.system_architecture.analysis import *\n",
    "ekos_times, ekos_reps, y_trues = query_process4_simple(eko_alt)\n",
    "print('ekos', ekos_times)"
   ]
  },
  {
   "cell_type": "markdown",
   "id": "aee249ba-da6a-41b1-bb23-e6a2a5d55f46",
   "metadata": {},
   "source": [
    "## Run Tasti"
   ]
  },
  {
   "cell_type": "code",
   "execution_count": 6,
   "id": "3df59996-8e22-4d01-8295-22fbbbd0cb08",
   "metadata": {},
   "outputs": [
    {
     "name": "stdout",
     "output_type": "stream",
     "text": [
      "index initializing....\n",
      "3000\n",
      "mining complete!\n",
      "training complete!\n"
     ]
    },
    {
     "data": {
      "application/vnd.jupyter.widget-view+json": {
       "model_id": "1918c01e4793415aabaf2006a625b14e",
       "version_major": 2,
       "version_minor": 0
      },
      "text/plain": [
       "Inference:   0%|          | 0/6250 [00:00<?, ?it/s]"
      ]
     },
     "metadata": {},
     "output_type": "display_data"
    },
    {
     "name": "stdout",
     "output_type": "stream",
     "text": [
      "inferring complete!\n"
     ]
    },
    {
     "name": "stderr",
     "output_type": "stream",
     "text": [
      "RandomBucketter: 100%|██████████| 249/249 [00:01<00:00, 148.66it/s]\n",
      "FPFBucketter: 100%|██████████| 750/750 [00:06<00:00, 121.98it/s]\n",
      "100%|██████████| 100000/100000 [00:01<00:00, 56292.00it/s]\n"
     ]
    },
    {
     "name": "stdout",
     "output_type": "stream",
     "text": [
      "bucketing complete!\n"
     ]
    },
    {
     "data": {
      "application/vnd.jupyter.widget-view+json": {
       "model_id": "2581a84836b14fc4aa3e5550a737dacd",
       "version_major": 2,
       "version_minor": 0
      },
      "text/plain": [
       "Target DNN Invocations:   0%|          | 0/1000 [00:00<?, ?it/s]"
      ]
     },
     "metadata": {},
     "output_type": "display_data"
    }
   ],
   "source": [
    "from src.motivation.main import *\n",
    "\n",
    "\n",
    "tastipt = execute_tastipt(images, video_name, nb_buckets = 1000)"
   ]
  },
  {
   "cell_type": "code",
   "execution_count": 7,
   "id": "df4a7c4f-162c-4135-9ff5-e75fc6ada524",
   "metadata": {
    "scrolled": true,
    "tags": []
   },
   "outputs": [
    {
     "data": {
      "application/vnd.jupyter.widget-view+json": {
       "model_id": "d88218961bac4b46987369a855eef725",
       "version_major": 2,
       "version_minor": 0
      },
      "text/plain": [
       "Propagation:   0%|          | 0/100000 [00:00<?, ?it/s]"
      ]
     },
     "metadata": {},
     "output_type": "display_data"
    },
    {
     "name": "stdout",
     "output_type": "stream",
     "text": [
      "r 3.0\n",
      "NightStreetAggregateQuery\n",
      "---------------------------  -----------------------------------------------------------------------------------------------------------------------------------------------------------------------------------\n",
      "initial_estimate             52441.76933508434\n",
      "debiased_estimate            63419.20916217032\n",
      "nb_samples                   27980\n",
      "y_pred                       [    0.22032     0.22011     0.22029 ...      1.8023      1.8019      1.6076]\n",
      "y_true                       [DNNOutputCacheFloat(idx=0) DNNOutputCacheFloat(idx=1) DNNOutputCacheFloat(idx=2) ... DNNOutputCacheFloat(idx=99997) DNNOutputCacheFloat(idx=99998) DNNOutputCacheFloat(idx=99999)]\n",
      "actual_estimate              63322.0\n"
     ]
    },
    {
     "data": {
      "application/vnd.jupyter.widget-view+json": {
       "model_id": "dec25fde87e3422a88cc7072f1f4d56f",
       "version_major": 2,
       "version_minor": 0
      },
      "text/plain": [
       "Propagation:   0%|          | 0/100000 [00:00<?, ?it/s]"
      ]
     },
     "metadata": {},
     "output_type": "display_data"
    },
    {
     "name": "stdout",
     "output_type": "stream",
     "text": [
      "r 3.0\n",
      "NightStreetAggregateQuery\n",
      "---------------------------  -----------------------------------------------------------------------------------------------------------------------------------------------------------------------------------\n",
      "initial_estimate             52441.76933508434\n",
      "debiased_estimate            63187.762591001905\n",
      "nb_samples                   989\n",
      "y_pred                       [    0.22032     0.22011     0.22029 ...      1.8023      1.8019      1.6076]\n",
      "y_true                       [DNNOutputCacheFloat(idx=0) DNNOutputCacheFloat(idx=1) DNNOutputCacheFloat(idx=2) ... DNNOutputCacheFloat(idx=99997) DNNOutputCacheFloat(idx=99998) DNNOutputCacheFloat(idx=99999)]\n",
      "actual_estimate              63322.0\n"
     ]
    },
    {
     "data": {
      "application/vnd.jupyter.widget-view+json": {
       "model_id": "7e9cd51d73cb4b40a58484139043b55b",
       "version_major": 2,
       "version_minor": 0
      },
      "text/plain": [
       "Propagation:   0%|          | 0/100000 [00:00<?, ?it/s]"
      ]
     },
     "metadata": {},
     "output_type": "display_data"
    },
    {
     "name": "stdout",
     "output_type": "stream",
     "text": [
      "r 3.0\n",
      "NightStreetAggregateQuery\n",
      "---------------------------  -----------------------------------------------------------------------------------------------------------------------------------------------------------------------------------\n",
      "initial_estimate             52441.76933508434\n",
      "debiased_estimate            -42094.41908946647\n",
      "nb_samples                   52\n",
      "y_pred                       [    0.22032     0.22011     0.22029 ...      1.8023      1.8019      1.6076]\n",
      "y_true                       [DNNOutputCacheFloat(idx=0) DNNOutputCacheFloat(idx=1) DNNOutputCacheFloat(idx=2) ... DNNOutputCacheFloat(idx=99997) DNNOutputCacheFloat(idx=99998) DNNOutputCacheFloat(idx=99999)]\n",
      "actual_estimate              63322.0\n"
     ]
    },
    {
     "data": {
      "text/plain": [
       "[27980, 989, 52]"
      ]
     },
     "execution_count": 7,
     "metadata": {},
     "output_type": "execute_result"
    }
   ],
   "source": [
    "\n",
    "result = query_process1(tastipt)\n",
    "result"
   ]
  },
  {
   "cell_type": "code",
   "execution_count": 8,
   "id": "764e84c8-8fcf-4be5-8a83-1237dae96773",
   "metadata": {},
   "outputs": [],
   "source": [
    "\n",
    "\n",
    "#### Run YOLOv5"
   ]
  },
  {
   "cell_type": "code",
   "execution_count": 9,
   "id": "b9eb66d1-f5c1-452b-8a5f-66345d054649",
   "metadata": {},
   "outputs": [
    {
     "name": "stderr",
     "output_type": "stream",
     "text": [
      "Using cache found in /nethome/jbang36/.cache/torch/hub/ultralytics_yolov5_master\n",
      "YOLOv5 🚀 2022-3-2 torch 1.10.2 CUDA:0 (NVIDIA GeForce RTX 2080 Ti, 11019MiB)\n",
      "\n",
      "Fusing layers... \n",
      "Model Summary: 213 layers, 7225885 parameters, 0 gradients, 16.5 GFLOPs\n",
      "Adding AutoShape... \n"
     ]
    },
    {
     "name": "stdout",
     "output_type": "stream",
     "text": [
      "evaluating on device cuda\n"
     ]
    },
    {
     "name": "stderr",
     "output_type": "stream",
     "text": [
      "100000it [09:01, 184.61it/s]\n"
     ]
    }
   ],
   "source": [
    "yolo_result = execute_yolo(images)"
   ]
  },
  {
   "cell_type": "code",
   "execution_count": null,
   "id": "222d1dd3-bcb2-4b62-93a0-752a94208029",
   "metadata": {},
   "outputs": [],
   "source": [
    "\n",
    "\n"
   ]
  }
 ],
 "metadata": {
  "kernelspec": {
   "display_name": "Python 3 (ipykernel)",
   "language": "python",
   "name": "python3"
  },
  "language_info": {
   "codemirror_mode": {
    "name": "ipython",
    "version": 3
   },
   "file_extension": ".py",
   "mimetype": "text/x-python",
   "name": "python",
   "nbconvert_exporter": "python",
   "pygments_lexer": "ipython3",
   "version": "3.10.13"
  }
 },
 "nbformat": 4,
 "nbformat_minor": 5
}
