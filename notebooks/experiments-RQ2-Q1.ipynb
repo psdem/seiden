{
 "cells": [
  {
   "cell_type": "code",
   "execution_count": 1,
   "id": "5d0d460b-78f2-4d10-8fa2-27e7b4299fbc",
   "metadata": {},
   "outputs": [],
   "source": [
    "%load_ext autoreload\n",
    "%autoreload 2"
   ]
  },
  {
   "cell_type": "code",
   "execution_count": 2,
   "id": "44a1fb0a-07f7-44ce-b2b3-8ab0393b97c0",
   "metadata": {},
   "outputs": [],
   "source": [
    "\n",
    "import sys\n",
    "sys.path.append('/nethome/jbang36/eko')\n"
   ]
  },
  {
   "cell_type": "code",
   "execution_count": 3,
   "id": "03ce896d-4cb0-488d-a611-2e40080fb849",
   "metadata": {},
   "outputs": [
    {
     "name": "stderr",
     "output_type": "stream",
     "text": [
      "10-27-2022 14:37:59 [info:049]INFO : meta data of the video /srv/data/jbang36/video_data/jackson/video.mp4 is (300000, 300, 300, 3)\n",
      "meta data of the video /srv/data/jbang36/video_data/jackson/video.mp4 is (300000, 300, 300, 3)\n",
      "100%|██████████| 300000/300000 [00:58<00:00, 5155.75it/s]\n"
     ]
    }
   ],
   "source": [
    "### let's run the experiment and get the results\n",
    "\n",
    "video_name = 'jackson'\n",
    "category = 'car'\n",
    "\n",
    "from src.motivation.main import *\n",
    "\n",
    "images = load_dataset(video_name)\n"
   ]
  },
  {
   "cell_type": "code",
   "execution_count": 4,
   "id": "6dd7de6a-9ae5-4357-8590-8a177974ae6e",
   "metadata": {
    "scrolled": true,
    "tags": []
   },
   "outputs": [
    {
     "name": "stdout",
     "output_type": "stream",
     "text": [
      "index initializing....\n",
      "number of training instances:  1\n",
      "mining complete!\n",
      "training complete!\n",
      "inferring complete!\n",
      "0.8 30000\n",
      "rep indices stats 30000 25000\n",
      "25001 30000\n",
      "bucketing complete!\n"
     ]
    },
    {
     "data": {
      "application/vnd.jupyter.widget-view+json": {
       "model_id": "95bc4423fd5a4036b5bf82dee9d3d0a4",
       "version_major": 2,
       "version_minor": 0
      },
      "text/plain": [
       "Target DNN Invocations:   0%|          | 0/25001 [00:00<?, ?it/s]"
      ]
     },
     "metadata": {},
     "output_type": "display_data"
    },
    {
     "data": {
      "application/vnd.jupyter.widget-view+json": {
       "model_id": "26f6c4c87c3441a393672b884201780d",
       "version_major": 2,
       "version_minor": 0
      },
      "text/plain": [
       "Propagation:   0%|          | 0/300000 [00:00<?, ?it/s]"
      ]
     },
     "metadata": {},
     "output_type": "display_data"
    },
    {
     "name": "stdout",
     "output_type": "stream",
     "text": [
      "r 3.0\n",
      "NightStreetAggregateQuery\n",
      "---------------------------  --------------------------------------------------------------------------------------------------------------------------------------------------------------------------------------\n",
      "initial_estimate             14559.0\n",
      "debiased_estimate            10537.800120363761\n",
      "nb_samples                   500\n",
      "y_pred                       [          0           0           0 ...           0           0           0]\n",
      "y_true                       [DNNOutputCacheFloat(idx=0) DNNOutputCacheFloat(idx=1) DNNOutputCacheFloat(idx=2) ... DNNOutputCacheFloat(idx=299997) DNNOutputCacheFloat(idx=299998) DNNOutputCacheFloat(idx=299999)]\n",
      "actual_estimate              14860.0\n"
     ]
    }
   ],
   "source": [
    "#### let's use eko and see what the y_pred, y_true gives\n",
    "\n",
    "from src.motivation.main import execute_ekoalt\n",
    "from src.experiments.main import *\n",
    "\n",
    "nb_buckets = int(len(images) * 0.1)\n",
    "eko = execute_ekoalt(images, video_name, category = category, nb_buckets = nb_buckets)\n",
    "query, times = query_process_aggregate(eko)\n",
    "\n",
    "a = query.y_pred\n",
    "b = query.y_true\n",
    "gt_aggregate = []\n",
    "for bb in b:\n",
    "    gt_aggregate.append(float(bb))\n",
    "gt_aggregate = np.array(gt_aggregate)"
   ]
  },
  {
   "cell_type": "code",
   "execution_count": 13,
   "id": "a2e69f5e-b84e-4487-a6dc-66f6e2270d78",
   "metadata": {},
   "outputs": [
    {
     "data": {
      "text/plain": [
       "((74880, 540, 960, 3), (74880,))"
      ]
     },
     "execution_count": 13,
     "metadata": {},
     "output_type": "execute_result"
    }
   ],
   "source": [
    "images.shape, gt_aggregate.shape"
   ]
  },
  {
   "cell_type": "markdown",
   "id": "fe0e2d02-4e18-4a43-b786-69753f24bd87",
   "metadata": {},
   "source": [
    "#### SVM"
   ]
  },
  {
   "cell_type": "code",
   "execution_count": 5,
   "id": "ff165596-2b0b-4f9d-a139-9cd7196ff7b4",
   "metadata": {},
   "outputs": [
    {
     "name": "stdout",
     "output_type": "stream",
     "text": [
      "SVM training start....\n",
      "SVM training done!!\n"
     ]
    },
    {
     "data": {
      "text/plain": [
       "13.097415998578072"
      ]
     },
     "execution_count": 5,
     "metadata": {},
     "output_type": "execute_result"
    }
   ],
   "source": [
    "\n",
    "from src.experiments.svm_wrapper import SVMWrapper\n",
    "\n",
    "\n",
    "svm_wrapper = SVMWrapper()\n",
    "labels = gt_aggregate\n",
    "\n",
    "st = time.perf_counter()\n",
    "svm_wrapper.train(images, labels)\n",
    "et  = time.perf_counter()\n",
    "\n",
    "et - st\n"
   ]
  },
  {
   "cell_type": "code",
   "execution_count": null,
   "id": "dab4cfe3-9ed8-4ebc-859f-ba31c7fe75d8",
   "metadata": {},
   "outputs": [],
   "source": []
  },
  {
   "cell_type": "code",
   "execution_count": 6,
   "id": "400457b3-f982-48bd-9216-5bc692c95718",
   "metadata": {},
   "outputs": [],
   "source": [
    "svm_aggregate = svm_wrapper.inference_aggregate(images)\n"
   ]
  },
  {
   "cell_type": "code",
   "execution_count": 7,
   "id": "bd06a269-f68e-4306-bef1-8ec261881526",
   "metadata": {},
   "outputs": [
    {
     "name": "stdout",
     "output_type": "stream",
     "text": [
      "r 2.0\n",
      "NightStreetAggregateQuery\n",
      "---------------------------  -----------------------------------------------------------------------------\n",
      "initial_estimate             114.0\n",
      "debiased_estimate            13856.203095803143\n",
      "nb_samples                   427\n",
      "y_pred                       [          0           0           0 ...           0           0           0]\n",
      "y_true                       [          0           0           0 ...           0           0           0]\n",
      "actual_estimate              14860.0\n"
     ]
    },
    {
     "data": {
      "text/plain": [
       "0.02000097930431366"
      ]
     },
     "execution_count": 7,
     "metadata": {},
     "output_type": "execute_result"
    }
   ],
   "source": [
    "from src.experiments.main import query_process_aggregate\n",
    "### Q1\n",
    "st = time.perf_counter()\n",
    "query, times = query_process_aggregate(None, (svm_aggregate,gt_aggregate))\n",
    "et = time.perf_counter()\n",
    "et - st"
   ]
  },
  {
   "cell_type": "markdown",
   "id": "882f2fa6-327e-4c5f-aea7-ecdf6a81d28d",
   "metadata": {},
   "source": [
    "## Resnet-18"
   ]
  },
  {
   "cell_type": "code",
   "execution_count": 8,
   "id": "3e94fc8c-3ad3-40c9-aab7-864e2dfb1d81",
   "metadata": {},
   "outputs": [],
   "source": [
    "## Resnet-18\n",
    "\n",
    "images.shape\n",
    "### load the labels -- it's loading the csv file \n",
    "label_file = f'/srv/data/jbang36/video_data/{video_name}/tasti_labels.csv'\n",
    "\n",
    "from src.experiments.resnet_wrapper import ResnetWrapper\n",
    "\n",
    "\n",
    "resnet = ResnetWrapper()\n",
    "\n",
    "labels = resnet._load_labels(images, label_file)\n",
    "\n"
   ]
  },
  {
   "cell_type": "code",
   "execution_count": 9,
   "id": "8251a12b-aaac-42c2-800f-af7b863ed52b",
   "metadata": {
    "scrolled": true,
    "tags": []
   },
   "outputs": [
    {
     "name": "stdout",
     "output_type": "stream",
     "text": [
      "Epoch 1\n",
      "\n",
      "Epoch [1/5], Step [0/750], Loss: 2.1890\n",
      "Epoch [1/5], Step [20/750], Loss: 0.3611\n",
      "Epoch [1/5], Step [40/750], Loss: 0.0016\n",
      "Epoch [1/5], Step [60/750], Loss: 0.0176\n",
      "Epoch [1/5], Step [80/750], Loss: 0.0013\n",
      "Epoch [1/5], Step [100/750], Loss: 2.7081\n",
      "Epoch [1/5], Step [120/750], Loss: 0.0002\n",
      "Epoch [1/5], Step [140/750], Loss: 1.0607\n",
      "Epoch [1/5], Step [160/750], Loss: 0.0227\n",
      "Epoch [1/5], Step [180/750], Loss: 0.0209\n",
      "Epoch [1/5], Step [200/750], Loss: 0.1043\n",
      "Epoch [1/5], Step [220/750], Loss: 1.1152\n",
      "Epoch [1/5], Step [240/750], Loss: 0.0000\n",
      "Epoch [1/5], Step [260/750], Loss: 0.0001\n",
      "Epoch [1/5], Step [280/750], Loss: 0.0000\n",
      "Epoch [1/5], Step [300/750], Loss: 2.3758\n",
      "Epoch [1/5], Step [320/750], Loss: 0.3724\n",
      "Epoch [1/5], Step [340/750], Loss: 0.0000\n",
      "Epoch [1/5], Step [360/750], Loss: 0.0367\n",
      "Epoch [1/5], Step [380/750], Loss: 0.0000\n",
      "Epoch [1/5], Step [400/750], Loss: 0.6121\n",
      "Epoch [1/5], Step [420/750], Loss: 0.0002\n",
      "Epoch [1/5], Step [440/750], Loss: 0.0063\n",
      "Epoch [1/5], Step [460/750], Loss: 0.0000\n",
      "Epoch [1/5], Step [480/750], Loss: 0.0002\n",
      "Epoch [1/5], Step [500/750], Loss: 0.0198\n",
      "Epoch [1/5], Step [520/750], Loss: 0.7468\n",
      "Epoch [1/5], Step [540/750], Loss: 0.0000\n",
      "Epoch [1/5], Step [560/750], Loss: 0.0002\n",
      "Epoch [1/5], Step [580/750], Loss: 2.8188\n",
      "Epoch [1/5], Step [600/750], Loss: 0.0040\n",
      "Epoch [1/5], Step [620/750], Loss: 0.0066\n",
      "Epoch [1/5], Step [640/750], Loss: 0.0004\n",
      "Epoch [1/5], Step [660/750], Loss: 0.0252\n",
      "Epoch [1/5], Step [680/750], Loss: 0.0041\n",
      "Epoch [1/5], Step [700/750], Loss: 0.0001\n",
      "Epoch [1/5], Step [720/750], Loss: 1.7302\n",
      "Epoch [1/5], Step [740/750], Loss: 0.0000\n",
      "\n",
      "train-loss: 0.2499, train-acc: 94.8333\n",
      "Epoch 2\n",
      "\n",
      "Epoch [2/5], Step [0/750], Loss: 0.0000\n",
      "Epoch [2/5], Step [20/750], Loss: 1.8029\n",
      "Epoch [2/5], Step [40/750], Loss: -0.0000\n",
      "Epoch [2/5], Step [60/750], Loss: 1.3762\n",
      "Epoch [2/5], Step [80/750], Loss: 2.3180\n",
      "Epoch [2/5], Step [100/750], Loss: 0.0000\n",
      "Epoch [2/5], Step [120/750], Loss: 0.0620\n",
      "Epoch [2/5], Step [140/750], Loss: 0.0000\n",
      "Epoch [2/5], Step [160/750], Loss: 1.1204\n",
      "Epoch [2/5], Step [180/750], Loss: 0.0070\n",
      "Epoch [2/5], Step [200/750], Loss: 0.0000\n",
      "Epoch [2/5], Step [220/750], Loss: 0.0003\n",
      "Epoch [2/5], Step [240/750], Loss: 0.0002\n",
      "Epoch [2/5], Step [260/750], Loss: 0.0007\n",
      "Epoch [2/5], Step [280/750], Loss: 0.3648\n",
      "Epoch [2/5], Step [300/750], Loss: 0.0009\n",
      "Epoch [2/5], Step [320/750], Loss: 11.7022\n",
      "Epoch [2/5], Step [340/750], Loss: 1.0118\n",
      "Epoch [2/5], Step [360/750], Loss: 0.0076\n",
      "Epoch [2/5], Step [380/750], Loss: 0.0354\n",
      "Epoch [2/5], Step [400/750], Loss: 0.0073\n",
      "Epoch [2/5], Step [420/750], Loss: 0.0477\n",
      "Epoch [2/5], Step [440/750], Loss: 0.0005\n",
      "Epoch [2/5], Step [460/750], Loss: 0.0003\n",
      "Epoch [2/5], Step [480/750], Loss: 0.0001\n",
      "Epoch [2/5], Step [500/750], Loss: 0.0087\n",
      "Epoch [2/5], Step [520/750], Loss: 0.0000\n",
      "Epoch [2/5], Step [540/750], Loss: 0.0001\n",
      "Epoch [2/5], Step [560/750], Loss: 0.0237\n",
      "Epoch [2/5], Step [580/750], Loss: 0.0001\n",
      "Epoch [2/5], Step [600/750], Loss: 0.5841\n",
      "Epoch [2/5], Step [620/750], Loss: 0.9191\n",
      "Epoch [2/5], Step [640/750], Loss: 0.0027\n",
      "Epoch [2/5], Step [660/750], Loss: 0.0056\n",
      "Epoch [2/5], Step [680/750], Loss: 0.0001\n",
      "Epoch [2/5], Step [700/750], Loss: 0.0232\n",
      "Epoch [2/5], Step [720/750], Loss: 1.0676\n",
      "Epoch [2/5], Step [740/750], Loss: 0.0003\n",
      "\n",
      "train-loss: 0.2728, train-acc: 94.8000\n",
      "Epoch 3\n",
      "\n",
      "Epoch [3/5], Step [0/750], Loss: 0.0858\n",
      "Epoch [3/5], Step [20/750], Loss: 0.1071\n",
      "Epoch [3/5], Step [40/750], Loss: 0.0008\n",
      "Epoch [3/5], Step [60/750], Loss: 0.0000\n",
      "Epoch [3/5], Step [80/750], Loss: 0.0021\n",
      "Epoch [3/5], Step [100/750], Loss: 0.0000\n",
      "Epoch [3/5], Step [120/750], Loss: 0.5810\n",
      "Epoch [3/5], Step [140/750], Loss: 0.0002\n",
      "Epoch [3/5], Step [160/750], Loss: 0.0000\n",
      "Epoch [3/5], Step [180/750], Loss: 0.0128\n",
      "Epoch [3/5], Step [200/750], Loss: 0.0115\n",
      "Epoch [3/5], Step [220/750], Loss: 0.0011\n",
      "Epoch [3/5], Step [240/750], Loss: 0.0001\n",
      "Epoch [3/5], Step [260/750], Loss: 0.6330\n",
      "Epoch [3/5], Step [280/750], Loss: 0.0000\n",
      "Epoch [3/5], Step [300/750], Loss: 0.0015\n",
      "Epoch [3/5], Step [320/750], Loss: 0.0000\n",
      "Epoch [3/5], Step [340/750], Loss: 0.0001\n",
      "Epoch [3/5], Step [360/750], Loss: 2.9373\n",
      "Epoch [3/5], Step [380/750], Loss: 0.0000\n",
      "Epoch [3/5], Step [400/750], Loss: 0.0006\n",
      "Epoch [3/5], Step [420/750], Loss: 0.0000\n",
      "Epoch [3/5], Step [440/750], Loss: 2.4490\n",
      "Epoch [3/5], Step [460/750], Loss: 0.0000\n",
      "Epoch [3/5], Step [480/750], Loss: 2.4549\n",
      "Epoch [3/5], Step [500/750], Loss: 0.0148\n",
      "Epoch [3/5], Step [520/750], Loss: 0.0038\n",
      "Epoch [3/5], Step [540/750], Loss: 2.4803\n",
      "Epoch [3/5], Step [560/750], Loss: 0.3749\n",
      "Epoch [3/5], Step [580/750], Loss: 0.1035\n",
      "Epoch [3/5], Step [600/750], Loss: 0.0000\n",
      "Epoch [3/5], Step [620/750], Loss: 0.0001\n",
      "Epoch [3/5], Step [640/750], Loss: 0.0002\n",
      "Epoch [3/5], Step [660/750], Loss: -0.0000\n",
      "Epoch [3/5], Step [680/750], Loss: 0.2855\n",
      "Epoch [3/5], Step [700/750], Loss: 0.0021\n",
      "Epoch [3/5], Step [720/750], Loss: 0.0025\n",
      "Epoch [3/5], Step [740/750], Loss: 0.9294\n",
      "\n",
      "train-loss: 0.2693, train-acc: 95.1333\n",
      "Epoch 4\n",
      "\n",
      "Epoch [4/5], Step [0/750], Loss: 0.0000\n",
      "Epoch [4/5], Step [20/750], Loss: 0.0003\n",
      "Epoch [4/5], Step [40/750], Loss: 0.2476\n",
      "Epoch [4/5], Step [60/750], Loss: 0.0005\n",
      "Epoch [4/5], Step [80/750], Loss: 0.0000\n",
      "Epoch [4/5], Step [100/750], Loss: 0.0000\n",
      "Epoch [4/5], Step [120/750], Loss: 0.0001\n",
      "Epoch [4/5], Step [140/750], Loss: 1.5167\n",
      "Epoch [4/5], Step [160/750], Loss: 0.0000\n",
      "Epoch [4/5], Step [180/750], Loss: 0.1682\n",
      "Epoch [4/5], Step [200/750], Loss: 0.0000\n",
      "Epoch [4/5], Step [220/750], Loss: 0.0003\n",
      "Epoch [4/5], Step [240/750], Loss: 3.6957\n",
      "Epoch [4/5], Step [260/750], Loss: 0.0207\n",
      "Epoch [4/5], Step [280/750], Loss: 0.0000\n",
      "Epoch [4/5], Step [300/750], Loss: 0.0024\n",
      "Epoch [4/5], Step [320/750], Loss: 0.1223\n",
      "Epoch [4/5], Step [340/750], Loss: 0.0001\n",
      "Epoch [4/5], Step [360/750], Loss: 0.4325\n",
      "Epoch [4/5], Step [380/750], Loss: 0.0000\n",
      "Epoch [4/5], Step [400/750], Loss: 0.0000\n",
      "Epoch [4/5], Step [420/750], Loss: 0.0000\n",
      "Epoch [4/5], Step [440/750], Loss: -0.0000\n",
      "Epoch [4/5], Step [460/750], Loss: 0.0024\n",
      "Epoch [4/5], Step [480/750], Loss: 0.0000\n",
      "Epoch [4/5], Step [500/750], Loss: 0.0088\n",
      "Epoch [4/5], Step [520/750], Loss: 0.3039\n",
      "Epoch [4/5], Step [540/750], Loss: 0.0000\n",
      "Epoch [4/5], Step [560/750], Loss: 0.0001\n",
      "Epoch [4/5], Step [580/750], Loss: 0.0070\n",
      "Epoch [4/5], Step [600/750], Loss: 0.0416\n",
      "Epoch [4/5], Step [620/750], Loss: 0.0390\n",
      "Epoch [4/5], Step [640/750], Loss: 0.1465\n",
      "Epoch [4/5], Step [660/750], Loss: 0.0003\n",
      "Epoch [4/5], Step [680/750], Loss: 0.0004\n",
      "Epoch [4/5], Step [700/750], Loss: 0.5426\n",
      "Epoch [4/5], Step [720/750], Loss: 0.0000\n",
      "Epoch [4/5], Step [740/750], Loss: 0.0009\n",
      "\n",
      "train-loss: 0.2589, train-acc: 95.2667\n",
      "Epoch 5\n",
      "\n",
      "Epoch [5/5], Step [0/750], Loss: 2.1292\n",
      "Epoch [5/5], Step [20/750], Loss: 0.0000\n",
      "Epoch [5/5], Step [40/750], Loss: 0.0000\n",
      "Epoch [5/5], Step [60/750], Loss: 0.0000\n",
      "Epoch [5/5], Step [80/750], Loss: 0.0160\n",
      "Epoch [5/5], Step [100/750], Loss: 0.0001\n",
      "Epoch [5/5], Step [120/750], Loss: 0.0009\n",
      "Epoch [5/5], Step [140/750], Loss: -0.0000\n",
      "Epoch [5/5], Step [160/750], Loss: 0.0000\n",
      "Epoch [5/5], Step [180/750], Loss: 0.3628\n",
      "Epoch [5/5], Step [200/750], Loss: 0.0006\n",
      "Epoch [5/5], Step [220/750], Loss: 0.0000\n",
      "Epoch [5/5], Step [240/750], Loss: 0.0000\n",
      "Epoch [5/5], Step [260/750], Loss: 0.0132\n",
      "Epoch [5/5], Step [280/750], Loss: 0.0029\n",
      "Epoch [5/5], Step [300/750], Loss: 0.3696\n",
      "Epoch [5/5], Step [320/750], Loss: 0.0000\n",
      "Epoch [5/5], Step [340/750], Loss: 0.0000\n",
      "Epoch [5/5], Step [360/750], Loss: 1.0906\n",
      "Epoch [5/5], Step [380/750], Loss: 0.0006\n",
      "Epoch [5/5], Step [400/750], Loss: 0.0338\n",
      "Epoch [5/5], Step [420/750], Loss: 0.0003\n",
      "Epoch [5/5], Step [440/750], Loss: 0.0078\n",
      "Epoch [5/5], Step [460/750], Loss: 0.0003\n",
      "Epoch [5/5], Step [480/750], Loss: 0.0302\n",
      "Epoch [5/5], Step [500/750], Loss: -0.0000\n",
      "Epoch [5/5], Step [520/750], Loss: 0.0003\n",
      "Epoch [5/5], Step [540/750], Loss: 0.0000\n",
      "Epoch [5/5], Step [560/750], Loss: 0.0000\n",
      "Epoch [5/5], Step [580/750], Loss: 0.0000\n",
      "Epoch [5/5], Step [600/750], Loss: 0.0002\n",
      "Epoch [5/5], Step [620/750], Loss: 0.0001\n",
      "Epoch [5/5], Step [640/750], Loss: 0.0122\n",
      "Epoch [5/5], Step [660/750], Loss: 0.0196\n",
      "Epoch [5/5], Step [680/750], Loss: 0.0061\n",
      "Epoch [5/5], Step [700/750], Loss: 1.0905\n",
      "Epoch [5/5], Step [720/750], Loss: 0.0005\n",
      "Epoch [5/5], Step [740/750], Loss: 0.0001\n",
      "\n",
      "train-loss: 0.2540, train-acc: 95.3667\n"
     ]
    }
   ],
   "source": [
    "### okay, let's try the training step..\n",
    "st = time.perf_counter()\n",
    "resnet.train(images, labels)\n",
    "et = time.perf_counter()"
   ]
  },
  {
   "cell_type": "code",
   "execution_count": 10,
   "id": "ef360750-11f2-40b8-9e31-01085b0bd235",
   "metadata": {},
   "outputs": [
    {
     "data": {
      "text/plain": [
       "23.284838508814573"
      ]
     },
     "execution_count": 10,
     "metadata": {},
     "output_type": "execute_result"
    }
   ],
   "source": [
    "et - st"
   ]
  },
  {
   "cell_type": "code",
   "execution_count": 11,
   "id": "f17e9dea-c45e-4832-9557-a95092c4e506",
   "metadata": {},
   "outputs": [
    {
     "name": "stdout",
     "output_type": "stream",
     "text": [
      "inference image size is  224\n",
      "cuda\n"
     ]
    },
    {
     "name": "stderr",
     "output_type": "stream",
     "text": [
      "100%|██████████| 37500/37500 [09:25<00:00, 66.34it/s]\n"
     ]
    },
    {
     "name": "stdout",
     "output_type": "stream",
     "text": [
      "torch.Size([8])\n",
      "(300000,)\n"
     ]
    }
   ],
   "source": [
    "resnet_aggregate = resnet.inference_aggregate(images, image_size = 224)"
   ]
  },
  {
   "cell_type": "code",
   "execution_count": 12,
   "id": "78b29b73-83b1-4822-874e-acea4f0f546e",
   "metadata": {},
   "outputs": [
    {
     "data": {
      "text/plain": [
       "15697"
      ]
     },
     "execution_count": 12,
     "metadata": {},
     "output_type": "execute_result"
    }
   ],
   "source": [
    "sum(resnet_aggregate)"
   ]
  },
  {
   "cell_type": "code",
   "execution_count": 13,
   "id": "fe86cc5f-1952-4282-b9fd-4a22842e2a55",
   "metadata": {},
   "outputs": [
    {
     "name": "stdout",
     "output_type": "stream",
     "text": [
      "r 2.0\n",
      "NightStreetAggregateQuery\n",
      "---------------------------  -----------------------------------------------------------------------------\n",
      "initial_estimate             15697\n",
      "debiased_estimate            13017.043534304365\n",
      "nb_samples                   400\n",
      "y_pred                       [0 0 0 ... 0 0 0]\n",
      "y_true                       [          0           0           0 ...           0           0           0]\n",
      "actual_estimate              14860.0\n"
     ]
    },
    {
     "data": {
      "text/plain": [
       "0.022614669054746628"
      ]
     },
     "execution_count": 13,
     "metadata": {},
     "output_type": "execute_result"
    }
   ],
   "source": [
    "st = time.perf_counter()\n",
    "query, times = query_process_aggregate(None, (resnet_aggregate,gt_aggregate))\n",
    "et = time.perf_counter()\n",
    "\n",
    "et - st"
   ]
  },
  {
   "cell_type": "code",
   "execution_count": null,
   "id": "295470a2-313b-4818-9782-4a6b88fa859f",
   "metadata": {},
   "outputs": [],
   "source": []
  },
  {
   "cell_type": "markdown",
   "id": "dd474b07-3181-49b8-9882-62798dee9db5",
   "metadata": {},
   "source": [
    "### EKO"
   ]
  },
  {
   "cell_type": "code",
   "execution_count": 5,
   "id": "e976e419-a826-49f7-84f9-df1967c9ff47",
   "metadata": {},
   "outputs": [
    {
     "data": {
      "text/plain": [
       "30000"
      ]
     },
     "execution_count": 5,
     "metadata": {},
     "output_type": "execute_result"
    }
   ],
   "source": [
    "anchor_count = int(len(images) * 0.1)\n",
    "anchor_count"
   ]
  },
  {
   "cell_type": "code",
   "execution_count": 6,
   "id": "61eb1b8a-7c4f-401c-a4e5-f203425892e0",
   "metadata": {},
   "outputs": [
    {
     "name": "stdout",
     "output_type": "stream",
     "text": [
      "index initializing....\n",
      "number of training instances:  1\n",
      "mining complete!\n",
      "training complete!\n",
      "inferring complete!\n",
      "0.8 30000\n",
      "rep indices stats 30000 25000\n",
      "25001 30000\n",
      "bucketing complete!\n"
     ]
    },
    {
     "data": {
      "application/vnd.jupyter.widget-view+json": {
       "model_id": "f3fbecfa93564cde9cde53200eb47d74",
       "version_major": 2,
       "version_minor": 0
      },
      "text/plain": [
       "Target DNN Invocations:   0%|          | 0/25001 [00:00<?, ?it/s]"
      ]
     },
     "metadata": {},
     "output_type": "display_data"
    }
   ],
   "source": [
    "#### let's try eko\n",
    "\n",
    "eko = execute_ekoalt(images, video_name, category = category, nb_buckets = anchor_count)\n",
    "\n",
    "\n"
   ]
  },
  {
   "cell_type": "code",
   "execution_count": 7,
   "id": "3c880956-8701-4a66-9846-7dbf434b75de",
   "metadata": {},
   "outputs": [
    {
     "data": {
      "application/vnd.jupyter.widget-view+json": {
       "model_id": "8a481f2739a444f8841a6fcdcd2e7813",
       "version_major": 2,
       "version_minor": 0
      },
      "text/plain": [
       "Propagation:   0%|          | 0/300000 [00:00<?, ?it/s]"
      ]
     },
     "metadata": {},
     "output_type": "display_data"
    },
    {
     "name": "stdout",
     "output_type": "stream",
     "text": [
      "r 3.0\n",
      "NightStreetAggregateQuery\n",
      "---------------------------  --------------------------------------------------------------------------------------------------------------------------------------------------------------------------------------\n",
      "initial_estimate             14559.0\n",
      "debiased_estimate            8242.2852509914\n",
      "nb_samples                   496\n",
      "y_pred                       [          0           0           0 ...           0           0           0]\n",
      "y_true                       [DNNOutputCacheFloat(idx=0) DNNOutputCacheFloat(idx=1) DNNOutputCacheFloat(idx=2) ... DNNOutputCacheFloat(idx=299997) DNNOutputCacheFloat(idx=299998) DNNOutputCacheFloat(idx=299999)]\n",
      "actual_estimate              14860.0\n"
     ]
    },
    {
     "data": {
      "text/plain": [
       "20.00388079509139"
      ]
     },
     "execution_count": 7,
     "metadata": {},
     "output_type": "execute_result"
    }
   ],
   "source": [
    "st = time.perf_counter()\n",
    "query, times = query_process_aggregate(eko)\n",
    "et = time.perf_counter()\n",
    "et - st"
   ]
  },
  {
   "cell_type": "markdown",
   "id": "7a392c01-76df-4733-85b7-26dc5ef3ed75",
   "metadata": {},
   "source": [
    "### TASTIPT"
   ]
  },
  {
   "cell_type": "code",
   "execution_count": null,
   "id": "abac3cb3-8a7a-471d-b601-6ae4961ea8f1",
   "metadata": {},
   "outputs": [],
   "source": [
    "print(category)"
   ]
  },
  {
   "cell_type": "code",
   "execution_count": 18,
   "id": "6e16006d-b8f8-4e79-b79e-2c9b53aab6c4",
   "metadata": {
    "scrolled": true,
    "tags": []
   },
   "outputs": [
    {
     "name": "stdout",
     "output_type": "stream",
     "text": [
      "Image size is  224\n",
      "index initializing....\n",
      "number of training instances:  3000\n",
      "Image size is  224\n",
      "mining complete!\n",
      "Image size is  224\n",
      "training complete!\n",
      "Image size is  224\n"
     ]
    },
    {
     "data": {
      "application/vnd.jupyter.widget-view+json": {
       "model_id": "4e959890d1764cebbfda1e3d8c137842",
       "version_major": 2,
       "version_minor": 0
      },
      "text/plain": [
       "Inference:   0%|          | 0/18750 [00:00<?, ?it/s]"
      ]
     },
     "metadata": {},
     "output_type": "display_data"
    },
    {
     "name": "stdout",
     "output_type": "stream",
     "text": [
      "inferring complete!\n"
     ]
    },
    {
     "name": "stderr",
     "output_type": "stream",
     "text": [
      "RandomBucketter: 100%|██████████| 7499/7499 [02:56<00:00, 42.50it/s]\n",
      "FPFBucketter: 100%|██████████| 22500/22500 [09:18<00:00, 40.31it/s]\n",
      "100%|██████████| 300000/300000 [04:33<00:00, 1096.02it/s]\n"
     ]
    },
    {
     "name": "stdout",
     "output_type": "stream",
     "text": [
      "bucketing complete!\n"
     ]
    },
    {
     "data": {
      "application/vnd.jupyter.widget-view+json": {
       "model_id": "e48ec70ccd3a42ff9a223b0dcee9f2b3",
       "version_major": 2,
       "version_minor": 0
      },
      "text/plain": [
       "Target DNN Invocations:   0%|          | 0/30000 [00:00<?, ?it/s]"
      ]
     },
     "metadata": {},
     "output_type": "display_data"
    }
   ],
   "source": [
    "from src.motivation.main import execute_tastipt\n",
    "\n",
    "tastipt = execute_tastipt(images, video_name, redo = True, category = category, image_size = 224, nb_buckets = anchor_count)\n",
    "\n"
   ]
  },
  {
   "cell_type": "code",
   "execution_count": 19,
   "id": "14496728-d565-4d2e-8087-c2dcbee37d70",
   "metadata": {},
   "outputs": [
    {
     "data": {
      "application/vnd.jupyter.widget-view+json": {
       "model_id": "bbf1e0b3412345f087ed5ba811276b56",
       "version_major": 2,
       "version_minor": 0
      },
      "text/plain": [
       "Propagation:   0%|          | 0/300000 [00:00<?, ?it/s]"
      ]
     },
     "metadata": {},
     "output_type": "display_data"
    },
    {
     "name": "stdout",
     "output_type": "stream",
     "text": [
      "r 3.0\n",
      "NightStreetAggregateQuery\n",
      "---------------------------  --------------------------------------------------------------------------------------------------------------------------------------------------------------------------------------\n",
      "initial_estimate             14543.561331699299\n",
      "debiased_estimate            8378.1352744378\n",
      "nb_samples                   498\n",
      "y_pred                       [    0.19565     0.19123     0.19182 ...           0           0           0]\n",
      "y_true                       [DNNOutputCacheFloat(idx=0) DNNOutputCacheFloat(idx=1) DNNOutputCacheFloat(idx=2) ... DNNOutputCacheFloat(idx=299997) DNNOutputCacheFloat(idx=299998) DNNOutputCacheFloat(idx=299999)]\n",
      "actual_estimate              14860.0\n"
     ]
    },
    {
     "data": {
      "text/plain": [
       "13.584183003753424"
      ]
     },
     "execution_count": 19,
     "metadata": {},
     "output_type": "execute_result"
    }
   ],
   "source": [
    "st = time.perf_counter()\n",
    "\n",
    "query, times = query_process_aggregate(tastipt)\n",
    "et = time.perf_counter()\n",
    "et - st"
   ]
  },
  {
   "cell_type": "code",
   "execution_count": null,
   "id": "2de886e2-0e75-433c-ba29-3883a29ddfdf",
   "metadata": {},
   "outputs": [],
   "source": []
  },
  {
   "cell_type": "code",
   "execution_count": null,
   "id": "f6f9800f-f1f5-4583-bfa7-ba17f915bdf0",
   "metadata": {},
   "outputs": [],
   "source": []
  },
  {
   "cell_type": "code",
   "execution_count": null,
   "id": "d431b0c4-4c7c-4b13-8f23-1ed27ebc23fe",
   "metadata": {},
   "outputs": [],
   "source": []
  },
  {
   "cell_type": "code",
   "execution_count": 1,
   "id": "38535b55-b285-40ae-aac4-7600a02b86ce",
   "metadata": {},
   "outputs": [],
   "source": [
    "### Cherry Q1\n",
    "import numpy as np\n",
    "\n",
    "### Cherry Q1\n",
    "THR = 1 / 140\n",
    "\n",
    "cherry_lp = np.array([0, 0, 3, 2])\n",
    "cherry_pp = np.array([1315, 1153, 793, 737]) * THR\n",
    "\n",
    "\n",
    "detrac_lp = np.array([0, 0, 3, 2])\n",
    "detrac_pp = np.array([24512, 13817, 8217, 8026]) * THR\n",
    "\n",
    "dashcam_lp = np.array([0, 0, 3, 2])\n",
    "dashcam_pp = np.array([7569, 3862, 3215, 2804]) * THR\n",
    "\n",
    "jackson_lp = np.array([0, 0, 8, 8])\n",
    "jackson_pp = np.array([427, 400, 498, 496]) * THR\n",
    "\n",
    "\n"
   ]
  },
  {
   "cell_type": "code",
   "execution_count": 2,
   "id": "7f3697d0-0e9b-44f9-bb1c-eeb685500410",
   "metadata": {},
   "outputs": [],
   "source": [
    "cherry_t = cherry_lp + cherry_pp\n",
    "detrac_t = detrac_lp + detrac_pp\n",
    "dashcam_t = dashcam_lp + dashcam_pp\n",
    "jackson_t = jackson_lp + jackson_pp"
   ]
  },
  {
   "cell_type": "code",
   "execution_count": 3,
   "id": "12fa2bce-76ec-4b27-bb9e-76d5d88083c1",
   "metadata": {},
   "outputs": [
    {
     "data": {
      "text/plain": [
       "(array([9.39285714, 8.23571429, 8.66428571, 7.26428571]),\n",
       " array([175.08571429,  98.69285714,  61.69285714,  59.32857143]),\n",
       " array([54.06428571, 27.58571429, 25.96428571, 22.02857143]),\n",
       " array([ 3.05      ,  2.85714286, 11.55714286, 11.54285714]))"
      ]
     },
     "execution_count": 3,
     "metadata": {},
     "output_type": "execute_result"
    }
   ],
   "source": [
    "cherry_t, detrac_t, dashcam_t, jackson_t"
   ]
  },
  {
   "cell_type": "code",
   "execution_count": 4,
   "id": "5f16b51f-34a5-4bd3-bd28-98445b45cedd",
   "metadata": {},
   "outputs": [],
   "source": [
    "### compute the speeds\n",
    "i = 0\n",
    "svm_times = [cherry_t[i], detrac_t[i], dashcam_t[i], jackson_t[i]]\n",
    "i = 1\n",
    "resnet_times = [cherry_t[i], detrac_t[i], dashcam_t[i], jackson_t[i]]\n",
    "\n",
    "i = 2\n",
    "tasti_times = [cherry_t[i], detrac_t[i], dashcam_t[i], jackson_t[i]]\n",
    "\n",
    "i = 3\n",
    "eko_times = [cherry_t[i], detrac_t[i], dashcam_t[i], jackson_t[i]]\n"
   ]
  },
  {
   "cell_type": "code",
   "execution_count": 7,
   "id": "a8b50db5-56d1-47fd-8c8c-ac3f3fdee263",
   "metadata": {},
   "outputs": [
    {
     "data": {
      "text/plain": [
       "(60.39821428571429, 34.34285714285714, 26.96964285714286, 25.041071428571428)"
      ]
     },
     "execution_count": 7,
     "metadata": {},
     "output_type": "execute_result"
    }
   ],
   "source": [
    "np.average(svm_times), np.average(resnet_times), np.average(tasti_times), np.average(eko_times)"
   ]
  },
  {
   "cell_type": "code",
   "execution_count": 8,
   "id": "c95e06a8-ec6a-4578-974e-9c934d424eff",
   "metadata": {},
   "outputs": [
    {
     "data": {
      "text/plain": [
       "(2.416, 1.36, 1.08)"
      ]
     },
     "execution_count": 8,
     "metadata": {},
     "output_type": "execute_result"
    }
   ],
   "source": [
    "60.4 / 25, 34 / 25, 27 / 25"
   ]
  },
  {
   "cell_type": "code",
   "execution_count": null,
   "id": "232eea8d-30ef-4842-b9c1-39834c9c4169",
   "metadata": {},
   "outputs": [],
   "source": []
  },
  {
   "cell_type": "code",
   "execution_count": 4,
   "id": "e8cec1d7-b38d-43a5-a222-f1915c4e5686",
   "metadata": {},
   "outputs": [
    {
     "data": {
      "text/plain": [
       "6.59046806204701"
      ]
     },
     "execution_count": 4,
     "metadata": {},
     "output_type": "execute_result"
    }
   ],
   "source": [
    "### motivation number\n",
    "\n",
    "tasti_numbers = np.array([527+8.6, 432+61, 425+25, 1268+11])\n",
    "eko_numbers = np.array([58+7, 52+59, 44.5+22, 174+11])\n",
    "\n",
    "np.mean(tasti_numbers / eko_numbers)\n",
    "\n"
   ]
  },
  {
   "cell_type": "code",
   "execution_count": null,
   "id": "0530f21a-a2b1-4ae1-91e4-10b360054f7b",
   "metadata": {},
   "outputs": [],
   "source": []
  },
  {
   "cell_type": "code",
   "execution_count": 5,
   "id": "cafcb1dd-839e-49cc-91f4-1f9b04ec7857",
   "metadata": {},
   "outputs": [
    {
     "data": {
      "text/plain": [
       "(array([9.39285714, 8.23571429, 8.66428571, 7.26428571]),\n",
       " array([175.08571429,  98.69285714,  61.69285714,  59.32857143]),\n",
       " array([54.06428571, 27.58571429, 25.96428571, 22.02857143]),\n",
       " array([ 3.05      ,  2.85714286, 11.55714286, 11.54285714]))"
      ]
     },
     "execution_count": 5,
     "metadata": {},
     "output_type": "execute_result"
    }
   ],
   "source": [
    "cherry_t, detrac_t, dashcam_t, jackson_t\n"
   ]
  },
  {
   "cell_type": "code",
   "execution_count": 12,
   "id": "89265c5c-9d54-46c4-85a5-0443ef63d702",
   "metadata": {},
   "outputs": [
    {
     "data": {
      "text/plain": [
       "(array([0.80152091, 0.91413703, 0.86892003, 1.        ]),\n",
       " array([0.34444354, 0.61105884, 0.9775385 , 1.        ]),\n",
       " array([0.41220769, 0.80787157, 0.85832187, 1.        ]),\n",
       " array([3.78454333, 4.04      , 0.99876391, 1.        ]))"
      ]
     },
     "execution_count": 12,
     "metadata": {},
     "output_type": "execute_result"
    }
   ],
   "source": [
    "### we want to compute on average how much faster is EKO compared to other methods?\n",
    "cherry_t[3] / cherry_t , detrac_t[3] / detrac_t , dashcam_t[3] / dashcam_t , jackson_t[3] / jackson_t\n",
    "\n"
   ]
  },
  {
   "cell_type": "code",
   "execution_count": 13,
   "id": "23110fb8-52be-4422-b90b-6d61053d2158",
   "metadata": {},
   "outputs": [
    {
     "data": {
      "text/plain": [
       "array([0.26423267, 0.24752475, 1.00123762, 1.        ])"
      ]
     },
     "execution_count": 13,
     "metadata": {},
     "output_type": "execute_result"
    }
   ],
   "source": [
    "jackson_t / jackson_t[3]"
   ]
  },
  {
   "cell_type": "code",
   "execution_count": 16,
   "id": "cb423cc0-c551-4b73-a092-9e7bebf0056c",
   "metadata": {},
   "outputs": [
    {
     "data": {
      "text/plain": [
       "6.666666666666667"
      ]
     },
     "execution_count": 16,
     "metadata": {},
     "output_type": "execute_result"
    }
   ],
   "source": [
    "(14 + 3 + 3) / 3"
   ]
  },
  {
   "cell_type": "code",
   "execution_count": 5,
   "id": "3fbc03dd-b918-4b2d-b2c3-4b82afcb4d16",
   "metadata": {},
   "outputs": [
    {
     "name": "stderr",
     "output_type": "stream",
     "text": [
      "<ipython-input-5-01c07c132032>:36: UserWarning: FixedFormatter should only be used together with FixedLocator\n",
      "  axes[i][j].set_xticklabels(x_axis_names, rotation = 30, ha = 'right',rotation_mode='anchor')\n",
      "<ipython-input-5-01c07c132032>:47: UserWarning: FixedFormatter should only be used together with FixedLocator\n",
      "  axes[i][j].set_xticklabels(x_axis_names, rotation = 30, ha = 'right', rotation_mode='anchor')\n",
      "<ipython-input-5-01c07c132032>:54: UserWarning: FixedFormatter should only be used together with FixedLocator\n",
      "  axes[i][j].set_xticklabels(x_axis_names, rotation = 30, ha = 'right', rotation_mode='anchor')\n",
      "<ipython-input-5-01c07c132032>:66: UserWarning: FixedFormatter should only be used together with FixedLocator\n",
      "  axes[i][j].set_xticklabels(x_axis_names, rotation = 30, ha = 'right', rotation_mode='anchor')\n"
     ]
    },
    {
     "data": {
      "image/png": "[encoded data removed]",
      "text/plain": [
       "<Figure size 576x360 with 4 Axes>"
      ]
     },
     "metadata": {
      "needs_background": "light"
     },
     "output_type": "display_data"
    }
   ],
   "source": [
    "import numpy as np\n",
    "import matplotlib.pyplot as plt\n",
    "%matplotlib inline\n",
    "import matplotlib\n",
    "\n",
    "font = {\n",
    "        'weight' : 'bold',\n",
    "        'size'   : 15}\n",
    "\n",
    "matplotlib.rc('font', **font)\n",
    "matplotlib.rc('ytick', labelsize=15)\n",
    "\n",
    "\n",
    "x_axis_names = ['SVM', 'Resnet-18', 'TASTI-PT', 'SEIDEN']\n",
    "\n",
    "x = np.arange(len(x_axis_names))\n",
    "\n",
    "\n",
    "### we need to do subplots\n",
    "rows = 2\n",
    "columns = 2\n",
    "fig_size = (8, 5)\n",
    "fig, axes = plt.subplots(rows, columns, sharey = False, sharex=True, figsize=fig_size)\n",
    "\n",
    "\n",
    "i = 0\n",
    "j = 0\n",
    "width = 0.6\n",
    "\n",
    "axes[i][j].bar(x_axis_names, cherry_lp, width, label='Label Propagation')\n",
    "axes[i][j].bar(x_axis_names, cherry_pp, width, bottom = cherry_lp, label='AQP', color = 'lightsteelblue')\n",
    "axes[i][j].set_ylabel('Time (s)', weight = 'bold', size = 15)\n",
    "#axes[i][j].set_ylim(0, 200)\n",
    "#axes[i][j].set_yticks([0, 50, 100, 150, 200])\n",
    "\n",
    "axes[i][j].set_xticklabels(x_axis_names, rotation = 30, ha = 'right',rotation_mode='anchor')\n",
    "#plt.ylim(0, 2)\n",
    "#plt.xticks(x, x_axis_names)\n",
    "axes[i][j].set_title('Cherry', weight = 'bold', size = 15)\n",
    "\n",
    "\n",
    "i = 0\n",
    "j = 1\n",
    "axes[i][j].bar(x_axis_names, detrac_lp, width, label='Label Propagation')\n",
    "axes[i][j].bar(x_axis_names, detrac_pp, width, bottom = detrac_lp, label='AQP', color = 'lightsteelblue')\n",
    "axes[i][j].set_title('UA-DETRAC', weight = 'bold', size = 15)\n",
    "axes[i][j].set_xticklabels(x_axis_names, rotation = 30, ha = 'right', rotation_mode='anchor')\n",
    "\n",
    "\n",
    "i = 1\n",
    "j = 0\n",
    "axes[i][j].bar(x_axis_names, dashcam_lp, width, label='Label Propagation')\n",
    "axes[i][j].bar(x_axis_names, dashcam_pp, width, bottom = dashcam_lp, label='AQP', color = 'lightsteelblue')\n",
    "axes[i][j].set_xticklabels(x_axis_names, rotation = 30, ha = 'right', rotation_mode='anchor')\n",
    "axes[i][j].set_ylabel('Time (s)', weight = 'bold', size = 15)\n",
    "\n",
    "axes[i][j].set_title('Dashcam', weight = 'bold', size = 15)\n",
    "\n",
    "\n",
    "i = 1\n",
    "j = 1\n",
    "axes[i][j].bar(x_axis_names, jackson_lp, width, label='Label Propagation')\n",
    "axes[i][j].bar(x_axis_names, jackson_pp, width, bottom = jackson_lp, label='AQP', color = 'lightsteelblue')\n",
    "\n",
    "axes[i][j].set_title('Jackson', weight = 'bold', size = 15)\n",
    "axes[i][j].set_xticklabels(x_axis_names, rotation = 30, ha = 'right', rotation_mode='anchor')\n",
    "\n",
    "\n",
    "plt.tight_layout()\n",
    "\n",
    "lgd = axes[0][0].legend(loc='upper center', bbox_to_anchor=(1, 1.6),\n",
    "          fancybox=True, shadow=True, ncol=10)\n",
    "\n",
    "\n",
    "#plt.legend(loc='upper center', bbox_to_anchor=(-0.15, 3.1),\n",
    "#          fancybox=True, shadow=True, ncol=10)\n",
    "#plt.legend()\n",
    "plt.savefig('plots/query-execution-q1.png', bbox_extra_artists=(lgd,), bbox_inches='tight')\n",
    "plt.show()\n",
    "\n",
    "\n",
    "\n",
    "\n"
   ]
  },
  {
   "cell_type": "code",
   "execution_count": null,
   "id": "ffaf9bed-a8ba-4e46-8785-08880ad95f7a",
   "metadata": {},
   "outputs": [],
   "source": []
  },
  {
   "cell_type": "code",
   "execution_count": null,
   "id": "db2e25b0-46dc-4639-b1e5-ffe5d7b33cbf",
   "metadata": {},
   "outputs": [],
   "source": []
  },
  {
   "cell_type": "code",
   "execution_count": null,
   "id": "2c509e78-4419-4309-b1f7-202cab08387c",
   "metadata": {},
   "outputs": [],
   "source": []
  },
  {
   "cell_type": "code",
   "execution_count": null,
   "id": "1b545fe1-83cc-4b5d-b4d2-75ae5bc63c64",
   "metadata": {},
   "outputs": [],
   "source": []
  },
  {
   "cell_type": "markdown",
   "id": "ee6447ff-635a-46f3-8d27-24238dc5feb5",
   "metadata": {},
   "source": [
    "### OLD Graphs"
   ]
  },
  {
   "cell_type": "code",
   "execution_count": null,
   "id": "7502e52a-9786-4fc7-b50d-d47f07d10f06",
   "metadata": {},
   "outputs": [],
   "source": []
  },
  {
   "cell_type": "code",
   "execution_count": null,
   "id": "c2f9a3ec-fb19-4f06-bcd1-40825e79f1dc",
   "metadata": {},
   "outputs": [],
   "source": [
    "THR = 1 / 140\n",
    "\n",
    "\n",
    "#### Q1\n",
    "x_axis_names = ['SVM', 'Resnet-18', 'TASTI-PT', 'EKO']\n",
    "cherry_q1_others = [0, 0, 4.2, 3.9]\n",
    "cherry_q1_post = [3300 * THR, 2545 * THR, 1892 * THR, 1829 * THR]\n",
    "\n",
    "#### Q2\n",
    "cherry_q2_others = [0, 0, 4.2, 3.9]\n",
    "cherry_q2_post = [1219 * THR, 886 * THR, 779 * THR, 778 * THR]\n",
    "\n",
    "#### Q3\n",
    "cherry_q3_others = [0, 0, 4.2, 3.9]\n",
    "cherry_q3_post = [1219 * THR, 886 * THR, 779 * THR, 778 * THR]\n",
    "\n",
    "\n",
    "#### Q1\n",
    "detrac_q1_others = [0, 0, 4.2, 3.9]\n",
    "detrac_q1_post = [1219 * THR, 886 * THR, 779 * THR, 778 * THR]\n",
    "\n",
    "\n",
    "#### Q2\n",
    "detrac_q2_others = [0, 0, 4.2, 3.9]\n",
    "detrac_q2_post = [1219 * THR, 886 * THR, 779 * THR, 778 * THR]\n",
    "\n",
    "\n",
    "#### Q3\n",
    "detrac_q3_others = [0, 0, 4.2, 3.9]\n",
    "detrac_q3_post = [1219 * THR, 886 * THR, 779 * THR, 778 * THR]\n",
    "\n",
    "\n",
    "#### Q1\n",
    "dashcam_q1_others = [0, 0, 4.2, 3.9]\n",
    "dashcam_q1_post = [1219 * THR, 886 * THR, 779 * THR, 778 * THR]\n",
    "\n",
    "\n",
    "#### Q2\n",
    "dashcam_q2_others = [0, 0, 4.2, 3.9]\n",
    "dashcam_q2_post = [1219 * THR, 886 * THR, 779 * THR, 778 * THR]\n",
    "\n",
    "\n",
    "#### Q3\n",
    "dashcam_q3_others = [0, 0, 4.2, 3.9]\n",
    "dashcam_q3_post = [1219 * THR, 886 * THR, 779 * THR, 778 * THR]\n",
    "\n",
    "\n",
    "#### Q1\n",
    "jackson_q1_others = [0, 0, 4.2, 3.9]\n",
    "jackson_q1_post = [1219 * THR, 886 * THR, 779 * THR, 778 * THR]\n",
    "\n",
    "\n",
    "#### Q2\n",
    "jackson_q2_others = [0, 0, 4.2, 3.9]\n",
    "jackson_q2_post = [1219 * THR, 886 * THR, 779 * THR, 778 * THR]\n",
    "\n",
    "\n",
    "#### Q3\n",
    "jackson_q3_others = [0, 0, 4.2, 3.9]\n",
    "jackson_q3_post = [1219 * THR, 886 * THR, 779 * THR, 778 * THR]\n",
    "\n",
    "\n",
    "\n",
    "import numpy as np\n",
    "import matplotlib.pyplot as plt\n",
    "%matplotlib inline\n",
    "\n",
    "\n",
    "### we need to do subplots\n",
    "rows = 1\n",
    "columns = 3\n",
    "i = 1\n",
    "fig = plt.figure(figsize = (15,3))\n",
    "fig.add_subplot(rows, columns, i)\n",
    "plt.bar(x - width, cherry_values, width, label = 'Cherry')\n",
    "plt.bar(x, ua_values, width, label = 'UA_DETRAC')\n",
    "plt.bar(x + width, da_values, width, label = 'Dashcam')\n",
    "plt.ylabel('Time (s)')\n",
    "plt.xticks(x, x_axis_names)\n",
    "plt.title('Q1 -- Aggregate')\n",
    "\n",
    "\n",
    "i = 2\n",
    "fig.add_subplot(rows, columns, i)\n",
    "plt.bar(x - width, cherry_values, width, label = 'Cherry')\n",
    "plt.bar(x, ua_values, width, label = 'UA_DETRAC')\n",
    "plt.bar(x + width, da_values, width, label = 'Dashcam')\n",
    "plt.xticks(x, x_axis_names)\n",
    "plt.title('Q2 -- Precision')\n",
    "\n",
    "\n",
    "\n",
    "i = 3\n",
    "fig.add_subplot(rows, columns, i)\n",
    "plt.bar(x - width, cherry_values, width, label = 'Cherry')\n",
    "plt.bar(x, ua_values, width, label = 'UA_DETRAC')\n",
    "plt.bar(x + width, da_values, width, label = 'Dashcam')\n",
    "plt.xticks(x, x_axis_names)\n",
    "plt.title('Q3 -- Recall')\n",
    "\n",
    "\n",
    "\n",
    "\n",
    "plt.xticks(x, x_axis_names)\n",
    "plt.legend()\n",
    "plt.show()\n",
    "\n"
   ]
  },
  {
   "cell_type": "code",
   "execution_count": null,
   "id": "58352758-0fce-462b-b10a-308797267ca2",
   "metadata": {},
   "outputs": [],
   "source": []
  },
  {
   "cell_type": "code",
   "execution_count": null,
   "id": "38ca18fd-1aec-40cf-adfc-e967c752d127",
   "metadata": {},
   "outputs": [],
   "source": [
    "### TODO: Need to include the YOLOv5 inference time for EKO -- this is pretty significant"
   ]
  },
  {
   "cell_type": "code",
   "execution_count": 14,
   "id": "7c7a6942-7f1d-4ddb-993f-46e8fa9d410d",
   "metadata": {},
   "outputs": [
    {
     "data": {
      "image/png": "[encoded data removed]",
      "text/plain": [
       "<Figure size 1080x216 with 3 Axes>"
      ]
     },
     "metadata": {
      "needs_background": "light"
     },
     "output_type": "display_data"
    }
   ],
   "source": [
    "### generate the outcome graph first \n",
    "import numpy as np\n",
    "import matplotlib.pyplot as plt\n",
    "%matplotlib inline\n",
    "### drawing function for the graph\n",
    "\n",
    "#### Q1 values\n",
    "\n",
    "x_axis_names = ['YOLOv5', 'TASTI-PT', 'EKO']\n",
    "cherry_values = [0, 9.68, 9.5]\n",
    "ua_values = [0, 61.25, 65.4]\n",
    "da_values = [0, 3.3 + 21.47, 2.9 + 22.17]\n",
    "\n",
    "\n",
    "##### Q2 values\n",
    "cherry_values = [0, 4.48 + 7.14, 4.26 + 7.14]\n",
    "ua_values = [0, 11.18, 12.94]\n",
    "da_values = [0, 3.57 + 7.14, 3.4 + 7.14]\n",
    "\n",
    "##### Q3 values\n",
    "cherry_values = [0, 4.56 + 7.14, 4.32 + 7.14]\n",
    "ua_values = [0, 11.84, 11.04]\n",
    "da_values = [0, 3.4 + 7.14, 3.4 + 7.14]\n",
    "\n",
    "\n",
    "x = np.arange(len(x_axis_names))\n",
    "width = 0.2\n",
    "\n",
    "\n",
    "### we need to do subplots\n",
    "rows = 1\n",
    "columns = 3\n",
    "i = 1\n",
    "fig = plt.figure(figsize = (15,3))\n",
    "fig.add_subplot(rows, columns, i)\n",
    "plt.bar(x - width, cherry_values, width, label = 'Cherry')\n",
    "plt.bar(x, ua_values, width, label = 'UA_DETRAC')\n",
    "plt.bar(x + width, da_values, width, label = 'Dashcam')\n",
    "plt.ylabel('Time (s)')\n",
    "plt.xticks(x, x_axis_names)\n",
    "plt.title('Q1 -- Aggregate')\n",
    "\n",
    "\n",
    "\n",
    "\n",
    "\n",
    "i = 2\n",
    "fig.add_subplot(rows, columns, i)\n",
    "plt.bar(x - width, cherry_values, width, label = 'Cherry')\n",
    "plt.bar(x, ua_values, width, label = 'UA_DETRAC')\n",
    "plt.bar(x + width, da_values, width, label = 'Dashcam')\n",
    "plt.xticks(x, x_axis_names)\n",
    "plt.title('Q2 -- Precision')\n",
    "\n",
    "\n",
    "\n",
    "i = 3\n",
    "fig.add_subplot(rows, columns, i)\n",
    "plt.bar(x - width, cherry_values, width, label = 'Cherry')\n",
    "plt.bar(x, ua_values, width, label = 'UA_DETRAC')\n",
    "plt.bar(x + width, da_values, width, label = 'Dashcam')\n",
    "plt.xticks(x, x_axis_names)\n",
    "plt.title('Q3 -- Recall')\n",
    "\n",
    "\n",
    "\n",
    "\n",
    "plt.xticks(x, x_axis_names)\n",
    "plt.legend()\n",
    "plt.show()\n"
   ]
  },
  {
   "cell_type": "code",
   "execution_count": 15,
   "id": "6d10bd56-050d-4722-9312-6b0f384da566",
   "metadata": {},
   "outputs": [],
   "source": [
    "cherry_values = [0, 9.68, 9.5]\n",
    "ua_values = [0, 61.25, 65.4]\n",
    "da_values = [0, 3.3 + 21.47, 2.9 + 22.17]\n",
    "\n",
    "\n",
    "##### Q2 values\n",
    "cherry_values2 = [0, 4.48 + 7.14, 4.26 + 7.14]\n",
    "ua_values2 = [0, 11.18, 12.94]\n",
    "da_values2 = [0, 3.57 + 7.14, 3.4 + 7.14]\n",
    "\n",
    "##### Q3 values\n",
    "cherry_values3 = [0, 4.56 + 7.14, 4.32 + 7.14]\n",
    "ua_values3 = [0, 11.84, 11.04]\n",
    "da_values3 = [0, 3.4 + 7.14, 3.4 + 7.14]"
   ]
  },
  {
   "cell_type": "code",
   "execution_count": 17,
   "id": "4dd49179-99c3-4125-9e4f-95dd09d460eb",
   "metadata": {},
   "outputs": [
    {
     "data": {
      "text/plain": [
       "array([          0,      18.143,      18.654])"
      ]
     },
     "execution_count": 17,
     "metadata": {},
     "output_type": "execute_result"
    }
   ],
   "source": [
    "tmp = np.array([cherry_values, ua_values, da_values, cherry_values2, ua_values2, da_values2, cherry_values3, ua_values3, da_values3])\n",
    "tmp.mean(axis = 0)"
   ]
  },
  {
   "cell_type": "code",
   "execution_count": 18,
   "id": "345f2553-55bb-4841-848a-3a8dc9a2816f",
   "metadata": {},
   "outputs": [
    {
     "name": "stdout",
     "output_type": "stream",
     "text": [
      "hello world\n"
     ]
    }
   ],
   "source": [
    "print('hello world')"
   ]
  },
  {
   "cell_type": "code",
   "execution_count": null,
   "id": "f780a99b-518b-4dc0-981c-14785655dbbb",
   "metadata": {},
   "outputs": [],
   "source": []
  }
 ],
 "metadata": {
  "kernelspec": {
   "display_name": "Python 3",
   "language": "python",
   "name": "python3"
  },
  "language_info": {
   "codemirror_mode": {
    "name": "ipython",
    "version": 3
   },
   "file_extension": ".py",
   "mimetype": "text/x-python",
   "name": "python",
   "nbconvert_exporter": "python",
   "pygments_lexer": "ipython3",
   "version": "3.9.7"
  }
 },
 "nbformat": 4,
 "nbformat_minor": 5
}
