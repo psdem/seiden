{
 "cells": [
  {
   "cell_type": "code",
   "execution_count": 1,
   "id": "5d0d460b-78f2-4d10-8fa2-27e7b4299fbc",
   "metadata": {},
   "outputs": [],
   "source": [
    "%load_ext autoreload\n",
    "%autoreload 2"
   ]
  },
  {
   "cell_type": "code",
   "execution_count": 2,
   "id": "44a1fb0a-07f7-44ce-b2b3-8ab0393b97c0",
   "metadata": {},
   "outputs": [],
   "source": [
    "\n",
    "# import sys\n",
    "# sys.path.append('/nethome/jbang36/eko')\n"
   ]
  },
  {
   "cell_type": "code",
   "execution_count": 2,
   "id": "03ce896d-4cb0-488d-a611-2e40080fb849",
   "metadata": {
    "ExecuteTime": {
     "end_time": "2023-11-28T02:00:14.863343094Z",
     "start_time": "2023-11-28T02:00:14.677565808Z"
    }
   },
   "outputs": [
    {
     "ename": "ModuleNotFoundError",
     "evalue": "No module named 'numba'",
     "output_type": "error",
     "traceback": [
      "\u001B[0;31m---------------------------------------------------------------------------\u001B[0m",
      "\u001B[0;31mModuleNotFoundError\u001B[0m                       Traceback (most recent call last)",
      "Input \u001B[0;32mIn [2]\u001B[0m, in \u001B[0;36m<module>\u001B[0;34m\u001B[0m\n\u001B[1;32m      3\u001B[0m video_name \u001B[38;5;241m=\u001B[39m \u001B[38;5;124m'\u001B[39m\u001B[38;5;124mjackson\u001B[39m\u001B[38;5;124m'\u001B[39m\n\u001B[1;32m      4\u001B[0m category \u001B[38;5;241m=\u001B[39m \u001B[38;5;124m'\u001B[39m\u001B[38;5;124mbus\u001B[39m\u001B[38;5;124m'\u001B[39m\n\u001B[0;32m----> 6\u001B[0m \u001B[38;5;28;01mfrom\u001B[39;00m \u001B[38;5;21;01msrc\u001B[39;00m\u001B[38;5;21;01m.\u001B[39;00m\u001B[38;5;21;01mmotivation\u001B[39;00m\u001B[38;5;21;01m.\u001B[39;00m\u001B[38;5;21;01mmain\u001B[39;00m \u001B[38;5;28;01mimport\u001B[39;00m \u001B[38;5;241m*\u001B[39m\n\u001B[1;32m      8\u001B[0m images \u001B[38;5;241m=\u001B[39m load_dataset(video_name)\n",
      "File \u001B[0;32m~/PyCharmProjects/seiden_submission/src/motivation/main.py:8\u001B[0m, in \u001B[0;36m<module>\u001B[0;34m\u001B[0m\n\u001B[1;32m      6\u001B[0m \u001B[38;5;28;01mfrom\u001B[39;00m \u001B[38;5;21;01mudfs\u001B[39;00m\u001B[38;5;21;01m.\u001B[39;00m\u001B[38;5;21;01myolov5_wrapper\u001B[39;00m \u001B[38;5;28;01mimport\u001B[39;00m YOLOv5Wrapper\n\u001B[1;32m      7\u001B[0m \u001B[38;5;28;01mfrom\u001B[39;00m \u001B[38;5;21;01msrc\u001B[39;00m\u001B[38;5;21;01m.\u001B[39;00m\u001B[38;5;21;01mmotivation\u001B[39;00m\u001B[38;5;21;01m.\u001B[39;00m\u001B[38;5;21;01myolo_wrapper\u001B[39;00m \u001B[38;5;28;01mimport\u001B[39;00m YoloWrapper\n\u001B[0;32m----> 8\u001B[0m \u001B[38;5;28;01mfrom\u001B[39;00m \u001B[38;5;21;01msrc\u001B[39;00m\u001B[38;5;21;01m.\u001B[39;00m\u001B[38;5;21;01mmotivation\u001B[39;00m\u001B[38;5;21;01m.\u001B[39;00m\u001B[38;5;21;01mtasti_wrapper\u001B[39;00m \u001B[38;5;28;01mimport\u001B[39;00m MotivationConfig, MotivationTasti\n\u001B[1;32m      9\u001B[0m \u001B[38;5;28;01mfrom\u001B[39;00m \u001B[38;5;21;01msrc\u001B[39;00m\u001B[38;5;21;01m.\u001B[39;00m\u001B[38;5;21;01mmotivation\u001B[39;00m\u001B[38;5;21;01m.\u001B[39;00m\u001B[38;5;21;01meko_wrapper\u001B[39;00m \u001B[38;5;28;01mimport\u001B[39;00m EKOConfig, EKO\n\u001B[1;32m     10\u001B[0m \u001B[38;5;28;01mfrom\u001B[39;00m \u001B[38;5;21;01msrc\u001B[39;00m\u001B[38;5;21;01m.\u001B[39;00m\u001B[38;5;21;01mmotivation\u001B[39;00m\u001B[38;5;21;01m.\u001B[39;00m\u001B[38;5;21;01mresnet_wrapper\u001B[39;00m \u001B[38;5;28;01mimport\u001B[39;00m ResnetWrapper\n",
      "File \u001B[0;32m~/PyCharmProjects/seiden_submission/src/motivation/tasti_wrapper.py:5\u001B[0m, in \u001B[0;36m<module>\u001B[0;34m\u001B[0m\n\u001B[1;32m      1\u001B[0m \u001B[38;5;124;03m\"\"\"\u001B[39;00m\n\u001B[1;32m      2\u001B[0m \u001B[38;5;124;03mIn this file, we implement a wrapper for tasti\u001B[39;00m\n\u001B[1;32m      3\u001B[0m \u001B[38;5;124;03m\"\"\"\u001B[39;00m\n\u001B[0;32m----> 5\u001B[0m \u001B[38;5;28;01mfrom\u001B[39;00m \u001B[38;5;21;01mbenchmarks\u001B[39;00m\u001B[38;5;21;01m.\u001B[39;00m\u001B[38;5;21;01mstanford\u001B[39;00m\u001B[38;5;21;01m.\u001B[39;00m\u001B[38;5;21;01mtasti\u001B[39;00m\u001B[38;5;21;01m.\u001B[39;00m\u001B[38;5;21;01mtasti\u001B[39;00m\u001B[38;5;21;01m.\u001B[39;00m\u001B[38;5;21;01mindex\u001B[39;00m \u001B[38;5;28;01mimport\u001B[39;00m Index\n\u001B[1;32m      6\u001B[0m \u001B[38;5;28;01mfrom\u001B[39;00m \u001B[38;5;21;01mbenchmarks\u001B[39;00m\u001B[38;5;21;01m.\u001B[39;00m\u001B[38;5;21;01mstanford\u001B[39;00m\u001B[38;5;21;01m.\u001B[39;00m\u001B[38;5;21;01mtasti\u001B[39;00m\u001B[38;5;21;01m.\u001B[39;00m\u001B[38;5;21;01mtasti\u001B[39;00m\u001B[38;5;21;01m.\u001B[39;00m\u001B[38;5;21;01mconfig\u001B[39;00m \u001B[38;5;28;01mimport\u001B[39;00m IndexConfig\n\u001B[1;32m      7\u001B[0m \u001B[38;5;28;01mimport\u001B[39;00m \u001B[38;5;21;01mtorchvision\u001B[39;00m\n",
      "File \u001B[0;32m~/PyCharmProjects/seiden_submission/benchmarks/stanford/tasti/tasti/__init__.py:1\u001B[0m, in \u001B[0;36m<module>\u001B[0;34m\u001B[0m\n\u001B[0;32m----> 1\u001B[0m \u001B[38;5;28;01mfrom\u001B[39;00m \u001B[38;5;21;01m.\u001B[39;00m\u001B[38;5;21;01mbucketters\u001B[39;00m \u001B[38;5;28;01mimport\u001B[39;00m \u001B[38;5;241m*\u001B[39m\n\u001B[1;32m      2\u001B[0m \u001B[38;5;28;01mfrom\u001B[39;00m \u001B[38;5;21;01m.\u001B[39;00m\u001B[38;5;21;01mdata\u001B[39;00m \u001B[38;5;28;01mimport\u001B[39;00m \u001B[38;5;241m*\u001B[39m\n\u001B[1;32m      3\u001B[0m \u001B[38;5;28;01mfrom\u001B[39;00m \u001B[38;5;21;01m.\u001B[39;00m\u001B[38;5;21;01mindex\u001B[39;00m \u001B[38;5;28;01mimport\u001B[39;00m \u001B[38;5;241m*\u001B[39m\n",
      "File \u001B[0;32m~/PyCharmProjects/seiden_submission/benchmarks/stanford/tasti/tasti/bucketters.py:3\u001B[0m, in \u001B[0;36m<module>\u001B[0;34m\u001B[0m\n\u001B[1;32m      1\u001B[0m \u001B[38;5;28;01mimport\u001B[39;00m \u001B[38;5;21;01mnumpy\u001B[39;00m \u001B[38;5;28;01mas\u001B[39;00m \u001B[38;5;21;01mnp\u001B[39;00m\n\u001B[1;32m      2\u001B[0m \u001B[38;5;28;01mimport\u001B[39;00m \u001B[38;5;21;01mtqdm\u001B[39;00m\n\u001B[0;32m----> 3\u001B[0m \u001B[38;5;28;01mfrom\u001B[39;00m \u001B[38;5;21;01mnumba\u001B[39;00m \u001B[38;5;28;01mimport\u001B[39;00m njit, prange\n\u001B[1;32m      5\u001B[0m \u001B[38;5;129m@njit\u001B[39m(parallel\u001B[38;5;241m=\u001B[39m\u001B[38;5;28;01mTrue\u001B[39;00m)\n\u001B[1;32m      6\u001B[0m \u001B[38;5;28;01mdef\u001B[39;00m \u001B[38;5;21mget_dists\u001B[39m(x, embeddings):\n\u001B[1;32m      7\u001B[0m     dists \u001B[38;5;241m=\u001B[39m np\u001B[38;5;241m.\u001B[39mzeros(\u001B[38;5;28mlen\u001B[39m(embeddings), dtype\u001B[38;5;241m=\u001B[39mnp\u001B[38;5;241m.\u001B[39mfloat32)\n",
      "\u001B[0;31mModuleNotFoundError\u001B[0m: No module named 'numba'"
     ]
    }
   ],
   "source": [
    "### let's run the experiment and get the results\n",
    "\n",
    "video_name = 'jackson'\n",
    "category = 'bus'\n",
    "\n",
    "from src.motivation.main import *\n",
    "\n",
    "images = load_dataset(video_name)\n"
   ]
  },
  {
   "cell_type": "code",
   "execution_count": 4,
   "id": "6dd7de6a-9ae5-4357-8590-8a177974ae6e",
   "metadata": {
    "scrolled": true,
    "tags": []
   },
   "outputs": [
    {
     "name": "stdout",
     "output_type": "stream",
     "text": [
      "index initializing....\n",
      "number of training instances:  1\n",
      "mining complete!\n",
      "training complete!\n",
      "inferring complete!\n",
      "0.8 30000\n",
      "rep indices stats 30000 25000\n",
      "25001 30000\n",
      "bucketing complete!\n"
     ]
    },
    {
     "data": {
      "application/vnd.jupyter.widget-view+json": {
       "model_id": "bd4ef782251c4500b3d513393b20c4b1",
       "version_major": 2,
       "version_minor": 0
      },
      "text/plain": [
       "Target DNN Invocations:   0%|          | 0/25001 [00:00<?, ?it/s]"
      ]
     },
     "metadata": {},
     "output_type": "display_data"
    },
    {
     "data": {
      "application/vnd.jupyter.widget-view+json": {
       "model_id": "58a30fb65f7f4797b74eb33bfb77126c",
       "version_major": 2,
       "version_minor": 0
      },
      "text/plain": [
       "Propagation:   0%|          | 0/300000 [00:00<?, ?it/s]"
      ]
     },
     "metadata": {},
     "output_type": "display_data"
    },
    {
     "name": "stdout",
     "output_type": "stream",
     "text": [
      "r 2.0\n",
      "NightStreetAggregateQuery\n",
      "---------------------------  --------------------------------------------------------------------------------------------------------------------------------------------------------------------------------------\n",
      "initial_estimate             2617.5\n",
      "debiased_estimate            -2801.8081575855754\n",
      "nb_samples                   332\n",
      "y_pred                       [          1           1           1 ...           0           0           0]\n",
      "y_true                       [DNNOutputCacheFloat(idx=0) DNNOutputCacheFloat(idx=1) DNNOutputCacheFloat(idx=2) ... DNNOutputCacheFloat(idx=299997) DNNOutputCacheFloat(idx=299998) DNNOutputCacheFloat(idx=299999)]\n",
      "actual_estimate              2801.0\n"
     ]
    }
   ],
   "source": [
    "#### let's use eko and see what the y_pred, y_true gives\n",
    "\n",
    "from src.motivation.main import execute_ekoalt\n",
    "from src.experiments.main import *\n",
    "\n",
    "nb_buckets = int(len(images) * 0.1)\n",
    "eko = execute_ekoalt(images, video_name, category = category, nb_buckets = nb_buckets)\n",
    "query, times = query_process_aggregate(eko)\n",
    "\n",
    "a = query.y_pred\n",
    "b = query.y_true\n",
    "gt_aggregate = []\n",
    "for bb in b:\n",
    "    gt_aggregate.append(float(bb))\n",
    "gt_aggregate = np.array(gt_aggregate)"
   ]
  },
  {
   "cell_type": "code",
   "execution_count": 5,
   "id": "a2e69f5e-b84e-4487-a6dc-66f6e2270d78",
   "metadata": {},
   "outputs": [
    {
     "data": {
      "text/plain": [
       "((300000, 300, 300, 3), (300000,))"
      ]
     },
     "execution_count": 5,
     "metadata": {},
     "output_type": "execute_result"
    }
   ],
   "source": [
    "images.shape, gt_aggregate.shape"
   ]
  },
  {
   "cell_type": "code",
   "execution_count": 6,
   "id": "97b53c42-c892-41cc-967f-b677190c0d28",
   "metadata": {},
   "outputs": [
    {
     "data": {
      "text/plain": [
       "2801.0"
      ]
     },
     "execution_count": 6,
     "metadata": {},
     "output_type": "execute_result"
    }
   ],
   "source": [
    "sum(gt_aggregate)"
   ]
  },
  {
   "cell_type": "markdown",
   "id": "fe0e2d02-4e18-4a43-b786-69753f24bd87",
   "metadata": {},
   "source": [
    "#### SVM"
   ]
  },
  {
   "cell_type": "code",
   "execution_count": 7,
   "id": "ff165596-2b0b-4f9d-a139-9cd7196ff7b4",
   "metadata": {},
   "outputs": [
    {
     "name": "stdout",
     "output_type": "stream",
     "text": [
      "SVM training start....\n",
      "SVM training done!!\n"
     ]
    },
    {
     "data": {
      "text/plain": [
       "8.900987941771746"
      ]
     },
     "execution_count": 7,
     "metadata": {},
     "output_type": "execute_result"
    }
   ],
   "source": [
    "\n",
    "from src.experiments.svm_wrapper import SVMWrapper\n",
    "\n",
    "\n",
    "svm_wrapper = SVMWrapper()\n",
    "labels = gt_aggregate\n",
    "\n",
    "st = time.perf_counter()\n",
    "svm_wrapper.train(images, labels)\n",
    "et  = time.perf_counter()\n",
    "\n",
    "et - st\n"
   ]
  },
  {
   "cell_type": "code",
   "execution_count": null,
   "id": "dab4cfe3-9ed8-4ebc-859f-ba31c7fe75d8",
   "metadata": {},
   "outputs": [],
   "source": []
  },
  {
   "cell_type": "code",
   "execution_count": 8,
   "id": "400457b3-f982-48bd-9216-5bc692c95718",
   "metadata": {},
   "outputs": [],
   "source": [
    "svm_aggregate = svm_wrapper.inference_aggregate(images)\n"
   ]
  },
  {
   "cell_type": "code",
   "execution_count": 9,
   "id": "bd06a269-f68e-4306-bef1-8ec261881526",
   "metadata": {},
   "outputs": [
    {
     "name": "stdout",
     "output_type": "stream",
     "text": [
      "r 1\n",
      "NightStreetAggregateQuery\n",
      "---------------------------  -----------------------------------------------------------------------------\n",
      "initial_estimate             6.0\n",
      "debiased_estimate            -1184.5771211467327\n",
      "nb_samples                   166\n",
      "y_pred                       [          0           0           0 ...           0           0           0]\n",
      "y_true                       [          1           1           1 ...           0           0           0]\n",
      "actual_estimate              2801.0\n"
     ]
    },
    {
     "data": {
      "text/plain": [
       "0.015164453536272049"
      ]
     },
     "execution_count": 9,
     "metadata": {},
     "output_type": "execute_result"
    }
   ],
   "source": [
    "from src.experiments.main import query_process_aggregate\n",
    "### Q1\n",
    "st = time.perf_counter()\n",
    "query, times = query_process_aggregate(None, (svm_aggregate,gt_aggregate))\n",
    "et = time.perf_counter()\n",
    "et - st"
   ]
  },
  {
   "cell_type": "code",
   "execution_count": 10,
   "id": "46c908f5-98ce-4760-b975-09668c00fe07",
   "metadata": {},
   "outputs": [
    {
     "data": {
      "text/plain": [
       "6.0"
      ]
     },
     "execution_count": 10,
     "metadata": {},
     "output_type": "execute_result"
    }
   ],
   "source": [
    "sum(svm_aggregate)"
   ]
  },
  {
   "cell_type": "markdown",
   "id": "882f2fa6-327e-4c5f-aea7-ecdf6a81d28d",
   "metadata": {},
   "source": [
    "## Resnet-18"
   ]
  },
  {
   "cell_type": "code",
   "execution_count": 10,
   "id": "3e94fc8c-3ad3-40c9-aab7-864e2dfb1d81",
   "metadata": {},
   "outputs": [],
   "source": [
    "## Resnet-18\n",
    "\n",
    "images.shape\n",
    "### load the labels -- it's loading the csv file \n",
    "### if it's bus, we need to change the label_file\n",
    "if category == 'car':\n",
    "\n",
    "    label_file = f'/srv/data/jbang36/video_data/{video_name}/tasti_labels.csv'\n",
    "else:\n",
    "    label_file = f'/srv/data/jbang36/video_data/{video_name}/tasti_labels_{category}.csv'\n",
    "    \n",
    "from src.experiments.resnet_wrapper import ResnetWrapper\n",
    "\n",
    "\n",
    "resnet = ResnetWrapper()\n",
    "\n",
    "labels = resnet._load_labels(images, label_file)\n",
    "\n"
   ]
  },
  {
   "cell_type": "code",
   "execution_count": 11,
   "id": "8251a12b-aaac-42c2-800f-af7b863ed52b",
   "metadata": {
    "scrolled": true,
    "tags": []
   },
   "outputs": [
    {
     "name": "stdout",
     "output_type": "stream",
     "text": [
      "Epoch 1\n",
      "\n",
      "Epoch [1/5], Step [0/210], Loss: 2.1534\n",
      "Epoch [1/5], Step [20/210], Loss: -0.0000\n",
      "Epoch [1/5], Step [40/210], Loss: -0.0000\n",
      "Epoch [1/5], Step [60/210], Loss: -0.0000\n",
      "Epoch [1/5], Step [80/210], Loss: -0.0000\n",
      "Epoch [1/5], Step [100/210], Loss: -0.0000\n",
      "Epoch [1/5], Step [120/210], Loss: -0.0000\n",
      "Epoch [1/5], Step [140/210], Loss: -0.0000\n",
      "Epoch [1/5], Step [160/210], Loss: -0.0000\n",
      "Epoch [1/5], Step [180/210], Loss: -0.0000\n",
      "Epoch [1/5], Step [200/210], Loss: -0.0000\n",
      "\n",
      "train-loss: 0.0106, train-acc: 99.5227\n",
      "Epoch 2\n",
      "\n",
      "Epoch [2/5], Step [0/210], Loss: -0.0000\n",
      "Epoch [2/5], Step [20/210], Loss: -0.0000\n",
      "Epoch [2/5], Step [40/210], Loss: -0.0000\n",
      "Epoch [2/5], Step [60/210], Loss: -0.0000\n",
      "Epoch [2/5], Step [80/210], Loss: -0.0000\n",
      "Epoch [2/5], Step [100/210], Loss: -0.0000\n",
      "Epoch [2/5], Step [120/210], Loss: -0.0000\n",
      "Epoch [2/5], Step [140/210], Loss: -0.0000\n",
      "Epoch [2/5], Step [160/210], Loss: -0.0000\n",
      "Epoch [2/5], Step [180/210], Loss: -0.0000\n",
      "Epoch [2/5], Step [200/210], Loss: -0.0000\n",
      "\n",
      "train-loss: 0.0053, train-acc: 100.0000\n",
      "Epoch 3\n",
      "\n",
      "Epoch [3/5], Step [0/210], Loss: -0.0000\n",
      "Epoch [3/5], Step [20/210], Loss: -0.0000\n",
      "Epoch [3/5], Step [40/210], Loss: -0.0000\n",
      "Epoch [3/5], Step [60/210], Loss: -0.0000\n",
      "Epoch [3/5], Step [80/210], Loss: -0.0000\n",
      "Epoch [3/5], Step [100/210], Loss: -0.0000\n",
      "Epoch [3/5], Step [120/210], Loss: -0.0000\n",
      "Epoch [3/5], Step [140/210], Loss: -0.0000\n",
      "Epoch [3/5], Step [160/210], Loss: -0.0000\n",
      "Epoch [3/5], Step [180/210], Loss: -0.0000\n",
      "Epoch [3/5], Step [200/210], Loss: -0.0000\n",
      "\n",
      "train-loss: 0.0035, train-acc: 100.0000\n",
      "Epoch 4\n",
      "\n",
      "Epoch [4/5], Step [0/210], Loss: -0.0000\n",
      "Epoch [4/5], Step [20/210], Loss: -0.0000\n",
      "Epoch [4/5], Step [40/210], Loss: -0.0000\n",
      "Epoch [4/5], Step [60/210], Loss: -0.0000\n",
      "Epoch [4/5], Step [80/210], Loss: -0.0000\n",
      "Epoch [4/5], Step [100/210], Loss: -0.0000\n",
      "Epoch [4/5], Step [120/210], Loss: -0.0000\n",
      "Epoch [4/5], Step [140/210], Loss: -0.0000\n",
      "Epoch [4/5], Step [160/210], Loss: -0.0000\n",
      "Epoch [4/5], Step [180/210], Loss: -0.0000\n",
      "Epoch [4/5], Step [200/210], Loss: -0.0000\n",
      "\n",
      "train-loss: 0.0027, train-acc: 100.0000\n",
      "Epoch 5\n",
      "\n",
      "Epoch [5/5], Step [0/210], Loss: -0.0000\n",
      "Epoch [5/5], Step [20/210], Loss: -0.0000\n",
      "Epoch [5/5], Step [40/210], Loss: -0.0000\n",
      "Epoch [5/5], Step [60/210], Loss: -0.0000\n",
      "Epoch [5/5], Step [80/210], Loss: -0.0000\n",
      "Epoch [5/5], Step [100/210], Loss: -0.0000\n",
      "Epoch [5/5], Step [120/210], Loss: -0.0000\n",
      "Epoch [5/5], Step [140/210], Loss: -0.0000\n",
      "Epoch [5/5], Step [160/210], Loss: -0.0000\n",
      "Epoch [5/5], Step [180/210], Loss: -0.0000\n",
      "Epoch [5/5], Step [200/210], Loss: -0.0000\n",
      "\n",
      "train-loss: 0.0021, train-acc: 100.0000\n"
     ]
    }
   ],
   "source": [
    "### okay, let's try the training step..\n",
    "st = time.perf_counter()\n",
    "resnet.train(images, labels)\n",
    "et = time.perf_counter()"
   ]
  },
  {
   "cell_type": "code",
   "execution_count": 12,
   "id": "ef360750-11f2-40b8-9e31-01085b0bd235",
   "metadata": {},
   "outputs": [
    {
     "data": {
      "text/plain": [
       "9.68741849064827"
      ]
     },
     "execution_count": 12,
     "metadata": {},
     "output_type": "execute_result"
    }
   ],
   "source": [
    "et - st"
   ]
  },
  {
   "cell_type": "code",
   "execution_count": 13,
   "id": "f17e9dea-c45e-4832-9557-a95092c4e506",
   "metadata": {},
   "outputs": [
    {
     "name": "stdout",
     "output_type": "stream",
     "text": [
      "inference image size is  224\n",
      "cuda\n"
     ]
    },
    {
     "name": "stderr",
     "output_type": "stream",
     "text": [
      "100%|██████████| 10474/10474 [06:20<00:00, 27.54it/s]\n"
     ]
    },
    {
     "name": "stdout",
     "output_type": "stream",
     "text": [
      "torch.Size([8])\n",
      "(83791,)\n"
     ]
    }
   ],
   "source": [
    "resnet_aggregate = resnet.inference_aggregate(images, image_size = 224)"
   ]
  },
  {
   "cell_type": "code",
   "execution_count": 14,
   "id": "78b29b73-83b1-4822-874e-acea4f0f546e",
   "metadata": {},
   "outputs": [
    {
     "data": {
      "text/plain": [
       "0"
      ]
     },
     "execution_count": 14,
     "metadata": {},
     "output_type": "execute_result"
    }
   ],
   "source": [
    "sum(resnet_aggregate)"
   ]
  },
  {
   "cell_type": "code",
   "execution_count": 15,
   "id": "fe86cc5f-1952-4282-b9fd-4a22842e2a55",
   "metadata": {
    "scrolled": true,
    "tags": []
   },
   "outputs": [
    {
     "name": "stderr",
     "output_type": "stream",
     "text": [
      "/home/jbang36/eko/benchmarks/stanford/blazeit/blazeit/aggregation/samplers.py:88: RuntimeWarning: invalid value encountered in double_scalars\n",
      "  self.c = -1 * self.cov / self.var_t\n",
      "/home/jbang36/eko/benchmarks/stanford/blazeit/blazeit/aggregation/samplers.py:94: RuntimeWarning: invalid value encountered in double_scalars\n",
      "  self.c = -1 * self.cov / self.var_t\n"
     ]
    },
    {
     "name": "stdout",
     "output_type": "stream",
     "text": [
      "r 1\n"
     ]
    },
    {
     "ename": "IndexError",
     "evalue": "index 83791 is out of bounds for axis 0 with size 83791",
     "output_type": "error",
     "traceback": [
      "\u001B[0;31m---------------------------------------------------------------------------\u001B[0m",
      "\u001B[0;31mIndexError\u001B[0m                                Traceback (most recent call last)",
      "\u001B[0;32m<ipython-input-15-433a84feb6cd>\u001B[0m in \u001B[0;36m<module>\u001B[0;34m\u001B[0m\n\u001B[1;32m      1\u001B[0m \u001B[0mst\u001B[0m \u001B[0;34m=\u001B[0m \u001B[0mtime\u001B[0m\u001B[0;34m.\u001B[0m\u001B[0mperf_counter\u001B[0m\u001B[0;34m(\u001B[0m\u001B[0;34m)\u001B[0m\u001B[0;34m\u001B[0m\u001B[0;34m\u001B[0m\u001B[0m\n\u001B[0;32m----> 2\u001B[0;31m \u001B[0mquery\u001B[0m\u001B[0;34m,\u001B[0m \u001B[0mtimes\u001B[0m \u001B[0;34m=\u001B[0m \u001B[0mquery_process_aggregate\u001B[0m\u001B[0;34m(\u001B[0m\u001B[0;32mNone\u001B[0m\u001B[0;34m,\u001B[0m \u001B[0;34m(\u001B[0m\u001B[0mresnet_aggregate\u001B[0m\u001B[0;34m,\u001B[0m\u001B[0mgt_aggregate\u001B[0m\u001B[0;34m)\u001B[0m\u001B[0;34m)\u001B[0m\u001B[0;34m\u001B[0m\u001B[0;34m\u001B[0m\u001B[0m\n\u001B[0m\u001B[1;32m      3\u001B[0m \u001B[0met\u001B[0m \u001B[0;34m=\u001B[0m \u001B[0mtime\u001B[0m\u001B[0;34m.\u001B[0m\u001B[0mperf_counter\u001B[0m\u001B[0;34m(\u001B[0m\u001B[0;34m)\u001B[0m\u001B[0;34m\u001B[0m\u001B[0;34m\u001B[0m\u001B[0m\n\u001B[1;32m      4\u001B[0m \u001B[0;34m\u001B[0m\u001B[0m\n\u001B[1;32m      5\u001B[0m \u001B[0met\u001B[0m \u001B[0;34m-\u001B[0m \u001B[0mst\u001B[0m\u001B[0;34m\u001B[0m\u001B[0;34m\u001B[0m\u001B[0m\n",
      "\u001B[0;32m~/eko/eko_paper2022/experiments/main.py\u001B[0m in \u001B[0;36mquery_process_aggregate\u001B[0;34m(index, y)\u001B[0m\n\u001B[1;32m     36\u001B[0m     \u001B[0mst\u001B[0m \u001B[0;34m=\u001B[0m \u001B[0mtime\u001B[0m\u001B[0;34m.\u001B[0m\u001B[0mperf_counter\u001B[0m\u001B[0;34m(\u001B[0m\u001B[0;34m)\u001B[0m\u001B[0;34m\u001B[0m\u001B[0;34m\u001B[0m\u001B[0m\n\u001B[1;32m     37\u001B[0m     \u001B[0mquery\u001B[0m \u001B[0;34m=\u001B[0m \u001B[0mNightStreetAggregateQuery\u001B[0m\u001B[0;34m(\u001B[0m\u001B[0mindex\u001B[0m\u001B[0;34m)\u001B[0m\u001B[0;34m\u001B[0m\u001B[0;34m\u001B[0m\u001B[0m\n\u001B[0;32m---> 38\u001B[0;31m     \u001B[0mresult\u001B[0m \u001B[0;34m=\u001B[0m \u001B[0mquery\u001B[0m\u001B[0;34m.\u001B[0m\u001B[0mexecute_metrics\u001B[0m\u001B[0;34m(\u001B[0m\u001B[0merr_tol\u001B[0m\u001B[0;34m=\u001B[0m\u001B[0;36m0.1\u001B[0m\u001B[0;34m,\u001B[0m \u001B[0mconfidence\u001B[0m\u001B[0;34m=\u001B[0m\u001B[0;36m0.05\u001B[0m\u001B[0;34m,\u001B[0m \u001B[0my\u001B[0m \u001B[0;34m=\u001B[0m \u001B[0my\u001B[0m\u001B[0;34m)\u001B[0m\u001B[0;34m\u001B[0m\u001B[0;34m\u001B[0m\u001B[0m\n\u001B[0m\u001B[1;32m     39\u001B[0m     \u001B[0mnb_samples\u001B[0m \u001B[0;34m=\u001B[0m \u001B[0mresult\u001B[0m\u001B[0;34m[\u001B[0m\u001B[0;34m'nb_samples'\u001B[0m\u001B[0;34m]\u001B[0m\u001B[0;34m\u001B[0m\u001B[0;34m\u001B[0m\u001B[0m\n\u001B[1;32m     40\u001B[0m \u001B[0;34m\u001B[0m\u001B[0m\n",
      "\u001B[0;32m~/eko/benchmarks/stanford/tasti/tasti/query.py\u001B[0m in \u001B[0;36mexecute_metrics\u001B[0;34m(self, err_tol, confidence, y, save_dir)\u001B[0m\n\u001B[1;32m     99\u001B[0m \u001B[0;34m\u001B[0m\u001B[0m\n\u001B[1;32m    100\u001B[0m     \u001B[0;32mdef\u001B[0m \u001B[0mexecute_metrics\u001B[0m\u001B[0;34m(\u001B[0m\u001B[0mself\u001B[0m\u001B[0;34m,\u001B[0m \u001B[0merr_tol\u001B[0m\u001B[0;34m=\u001B[0m\u001B[0;36m0.01\u001B[0m\u001B[0;34m,\u001B[0m \u001B[0mconfidence\u001B[0m\u001B[0;34m=\u001B[0m\u001B[0;36m0.05\u001B[0m\u001B[0;34m,\u001B[0m \u001B[0my\u001B[0m\u001B[0;34m=\u001B[0m\u001B[0;32mNone\u001B[0m\u001B[0;34m,\u001B[0m \u001B[0msave_dir\u001B[0m \u001B[0;34m=\u001B[0m \u001B[0;32mNone\u001B[0m\u001B[0;34m)\u001B[0m\u001B[0;34m:\u001B[0m\u001B[0;34m\u001B[0m\u001B[0;34m\u001B[0m\u001B[0m\n\u001B[0;32m--> 101\u001B[0;31m         \u001B[0mres\u001B[0m \u001B[0;34m=\u001B[0m \u001B[0mself\u001B[0m\u001B[0;34m.\u001B[0m\u001B[0m_execute\u001B[0m\u001B[0;34m(\u001B[0m\u001B[0merr_tol\u001B[0m\u001B[0;34m,\u001B[0m \u001B[0mconfidence\u001B[0m\u001B[0;34m,\u001B[0m \u001B[0my\u001B[0m\u001B[0;34m)\u001B[0m\u001B[0;34m\u001B[0m\u001B[0;34m\u001B[0m\u001B[0m\n\u001B[0m\u001B[1;32m    102\u001B[0m         \u001B[0mres\u001B[0m\u001B[0;34m[\u001B[0m\u001B[0;34m'actual_estimate'\u001B[0m\u001B[0;34m]\u001B[0m \u001B[0;34m=\u001B[0m \u001B[0mres\u001B[0m\u001B[0;34m[\u001B[0m\u001B[0;34m'y_true'\u001B[0m\u001B[0;34m]\u001B[0m\u001B[0;34m.\u001B[0m\u001B[0msum\u001B[0m\u001B[0;34m(\u001B[0m\u001B[0;34m)\u001B[0m \u001B[0;31m# expensive\u001B[0m\u001B[0;34m\u001B[0m\u001B[0;34m\u001B[0m\u001B[0m\n\u001B[1;32m    103\u001B[0m         \u001B[0mprint_dict\u001B[0m\u001B[0;34m(\u001B[0m\u001B[0mres\u001B[0m\u001B[0;34m,\u001B[0m \u001B[0mheader\u001B[0m\u001B[0;34m=\u001B[0m\u001B[0mself\u001B[0m\u001B[0;34m.\u001B[0m\u001B[0m__class__\u001B[0m\u001B[0;34m.\u001B[0m\u001B[0m__name__\u001B[0m\u001B[0;34m)\u001B[0m\u001B[0;34m\u001B[0m\u001B[0;34m\u001B[0m\u001B[0m\n",
      "\u001B[0;32m~/eko/benchmarks/stanford/tasti/tasti/query.py\u001B[0m in \u001B[0;36m_execute\u001B[0;34m(self, err_tol, confidence, y)\u001B[0m\n\u001B[1;32m     82\u001B[0m         \u001B[0mprint\u001B[0m\u001B[0;34m(\u001B[0m\u001B[0;34m\"r\"\u001B[0m\u001B[0;34m,\u001B[0m \u001B[0mr\u001B[0m\u001B[0;34m)\u001B[0m\u001B[0;34m\u001B[0m\u001B[0;34m\u001B[0m\u001B[0m\n\u001B[1;32m     83\u001B[0m         \u001B[0msampler\u001B[0m \u001B[0;34m=\u001B[0m \u001B[0mControlCovariateSampler\u001B[0m\u001B[0;34m(\u001B[0m\u001B[0merr_tol\u001B[0m\u001B[0;34m,\u001B[0m \u001B[0mconfidence\u001B[0m\u001B[0;34m,\u001B[0m \u001B[0my_pred\u001B[0m\u001B[0;34m,\u001B[0m \u001B[0my_true\u001B[0m\u001B[0;34m,\u001B[0m \u001B[0mr\u001B[0m\u001B[0;34m)\u001B[0m\u001B[0;34m\u001B[0m\u001B[0;34m\u001B[0m\u001B[0m\n\u001B[0;32m---> 84\u001B[0;31m         \u001B[0mestimate\u001B[0m\u001B[0;34m,\u001B[0m \u001B[0mnb_samples\u001B[0m \u001B[0;34m=\u001B[0m \u001B[0msampler\u001B[0m\u001B[0;34m.\u001B[0m\u001B[0msample\u001B[0m\u001B[0;34m(\u001B[0m\u001B[0;34m)\u001B[0m\u001B[0;34m\u001B[0m\u001B[0;34m\u001B[0m\u001B[0m\n\u001B[0m\u001B[1;32m     85\u001B[0m \u001B[0;34m\u001B[0m\u001B[0m\n\u001B[1;32m     86\u001B[0m         res = {\n",
      "\u001B[0;32m/home/jbang36/eko/benchmarks/stanford/blazeit/blazeit/aggregation/samplers.py\u001B[0m in \u001B[0;36msample\u001B[0;34m(self)\u001B[0m\n\u001B[1;32m     56\u001B[0m                     \u001B[0mXt_sqsum\u001B[0m \u001B[0;34m=\u001B[0m \u001B[0mt2\u001B[0m\u001B[0;34m\u001B[0m\u001B[0;34m\u001B[0m\u001B[0m\n\u001B[1;32m     57\u001B[0m \u001B[0;34m\u001B[0m\u001B[0m\n\u001B[0;32m---> 58\u001B[0;31m             \u001B[0msample\u001B[0m \u001B[0;34m=\u001B[0m \u001B[0mself\u001B[0m\u001B[0;34m.\u001B[0m\u001B[0mget_sample\u001B[0m\u001B[0;34m(\u001B[0m\u001B[0mY_pred\u001B[0m\u001B[0;34m,\u001B[0m \u001B[0mY_true\u001B[0m\u001B[0;34m,\u001B[0m \u001B[0mt\u001B[0m\u001B[0;34m)\u001B[0m\u001B[0;34m\u001B[0m\u001B[0;34m\u001B[0m\u001B[0m\n\u001B[0m\u001B[1;32m     59\u001B[0m             \u001B[0mXt_sum\u001B[0m \u001B[0;34m+=\u001B[0m \u001B[0msample\u001B[0m\u001B[0;34m\u001B[0m\u001B[0;34m\u001B[0m\u001B[0m\n\u001B[1;32m     60\u001B[0m             \u001B[0mXt_sqsum\u001B[0m \u001B[0;34m+=\u001B[0m \u001B[0msample\u001B[0m \u001B[0;34m*\u001B[0m \u001B[0msample\u001B[0m\u001B[0;34m\u001B[0m\u001B[0;34m\u001B[0m\u001B[0m\n",
      "\u001B[0;32m/home/jbang36/eko/benchmarks/stanford/blazeit/blazeit/aggregation/samplers.py\u001B[0m in \u001B[0;36mget_sample\u001B[0;34m(self, Y_pred, Y_true, nb_samples)\u001B[0m\n\u001B[1;32m    103\u001B[0m \u001B[0;34m\u001B[0m\u001B[0m\n\u001B[1;32m    104\u001B[0m     \u001B[0;32mdef\u001B[0m \u001B[0mget_sample\u001B[0m\u001B[0;34m(\u001B[0m\u001B[0mself\u001B[0m\u001B[0;34m,\u001B[0m \u001B[0mY_pred\u001B[0m\u001B[0;34m,\u001B[0m \u001B[0mY_true\u001B[0m\u001B[0;34m,\u001B[0m \u001B[0mnb_samples\u001B[0m\u001B[0;34m)\u001B[0m\u001B[0;34m:\u001B[0m\u001B[0;34m\u001B[0m\u001B[0;34m\u001B[0m\u001B[0m\n\u001B[0;32m--> 105\u001B[0;31m         \u001B[0myt_samp\u001B[0m \u001B[0;34m=\u001B[0m \u001B[0mY_true\u001B[0m\u001B[0;34m[\u001B[0m\u001B[0mnb_samples\u001B[0m\u001B[0;34m]\u001B[0m\u001B[0;34m\u001B[0m\u001B[0;34m\u001B[0m\u001B[0m\n\u001B[0m\u001B[1;32m    106\u001B[0m         \u001B[0myp_samp\u001B[0m \u001B[0;34m=\u001B[0m \u001B[0mself\u001B[0m\u001B[0;34m.\u001B[0m\u001B[0m_get_yp\u001B[0m\u001B[0;34m(\u001B[0m\u001B[0mY_true\u001B[0m\u001B[0;34m,\u001B[0m \u001B[0mY_pred\u001B[0m\u001B[0;34m,\u001B[0m \u001B[0mnb_samples\u001B[0m\u001B[0;34m)\u001B[0m\u001B[0;34m\u001B[0m\u001B[0;34m\u001B[0m\u001B[0m\n\u001B[1;32m    107\u001B[0m \u001B[0;34m\u001B[0m\u001B[0m\n",
      "\u001B[0;31mIndexError\u001B[0m: index 83791 is out of bounds for axis 0 with size 83791"
     ]
    }
   ],
   "source": [
    "st = time.perf_counter()\n",
    "query, times = query_process_aggregate(None, (resnet_aggregate,gt_aggregate))\n",
    "et = time.perf_counter()\n",
    "\n",
    "et - st"
   ]
  },
  {
   "cell_type": "code",
   "execution_count": null,
   "id": "295470a2-313b-4818-9782-4a6b88fa859f",
   "metadata": {},
   "outputs": [],
   "source": []
  },
  {
   "cell_type": "markdown",
   "id": "dd474b07-3181-49b8-9882-62798dee9db5",
   "metadata": {},
   "source": [
    "### EKO"
   ]
  },
  {
   "cell_type": "code",
   "execution_count": 11,
   "id": "e976e419-a826-49f7-84f9-df1967c9ff47",
   "metadata": {},
   "outputs": [
    {
     "data": {
      "text/plain": [
       "30000"
      ]
     },
     "execution_count": 11,
     "metadata": {},
     "output_type": "execute_result"
    }
   ],
   "source": [
    "anchor_count = int(len(images) * 0.1)\n",
    "anchor_count"
   ]
  },
  {
   "cell_type": "code",
   "execution_count": 12,
   "id": "61eb1b8a-7c4f-401c-a4e5-f203425892e0",
   "metadata": {},
   "outputs": [
    {
     "name": "stdout",
     "output_type": "stream",
     "text": [
      "index initializing....\n",
      "number of training instances:  1\n",
      "mining complete!\n",
      "training complete!\n",
      "inferring complete!\n",
      "0.8 30000\n",
      "rep indices stats 30000 25000\n",
      "25001 30000\n",
      "bucketing complete!\n"
     ]
    },
    {
     "data": {
      "application/vnd.jupyter.widget-view+json": {
       "model_id": "7685ccc2c38d498fa5f7433f7773df79",
       "version_major": 2,
       "version_minor": 0
      },
      "text/plain": [
       "Target DNN Invocations:   0%|          | 0/25001 [00:00<?, ?it/s]"
      ]
     },
     "metadata": {},
     "output_type": "display_data"
    }
   ],
   "source": [
    "#### let's try eko\n",
    "\n",
    "eko = execute_ekoalt(images, video_name, category = category, nb_buckets = anchor_count)\n",
    "\n",
    "\n"
   ]
  },
  {
   "cell_type": "code",
   "execution_count": 13,
   "id": "3c880956-8701-4a66-9846-7dbf434b75de",
   "metadata": {},
   "outputs": [
    {
     "data": {
      "application/vnd.jupyter.widget-view+json": {
       "model_id": "79ac2a48179a45bd9457fee49a9eb4dd",
       "version_major": 2,
       "version_minor": 0
      },
      "text/plain": [
       "Propagation:   0%|          | 0/300000 [00:00<?, ?it/s]"
      ]
     },
     "metadata": {},
     "output_type": "display_data"
    },
    {
     "name": "stdout",
     "output_type": "stream",
     "text": [
      "r 2.0\n",
      "NightStreetAggregateQuery\n",
      "---------------------------  --------------------------------------------------------------------------------------------------------------------------------------------------------------------------------------\n",
      "initial_estimate             2617.5\n",
      "debiased_estimate            -607.374284334753\n",
      "nb_samples                   309\n",
      "y_pred                       [          1           1           1 ...           0           0           0]\n",
      "y_true                       [DNNOutputCacheFloat(idx=0) DNNOutputCacheFloat(idx=1) DNNOutputCacheFloat(idx=2) ... DNNOutputCacheFloat(idx=299997) DNNOutputCacheFloat(idx=299998) DNNOutputCacheFloat(idx=299999)]\n",
      "actual_estimate              2801.0\n"
     ]
    },
    {
     "data": {
      "text/plain": [
       "20.889532335102558"
      ]
     },
     "execution_count": 13,
     "metadata": {},
     "output_type": "execute_result"
    }
   ],
   "source": [
    "st = time.perf_counter()\n",
    "query, times = query_process_aggregate(eko)\n",
    "et = time.perf_counter()\n",
    "et - st"
   ]
  },
  {
   "cell_type": "markdown",
   "id": "7a392c01-76df-4733-85b7-26dc5ef3ed75",
   "metadata": {},
   "source": [
    "### TASTIPT"
   ]
  },
  {
   "cell_type": "code",
   "execution_count": 14,
   "id": "abac3cb3-8a7a-471d-b601-6ae4961ea8f1",
   "metadata": {},
   "outputs": [
    {
     "name": "stdout",
     "output_type": "stream",
     "text": [
      "bus\n"
     ]
    }
   ],
   "source": [
    "print(category)"
   ]
  },
  {
   "cell_type": "code",
   "execution_count": 15,
   "id": "6e16006d-b8f8-4e79-b79e-2c9b53aab6c4",
   "metadata": {
    "scrolled": true,
    "tags": []
   },
   "outputs": [
    {
     "name": "stdout",
     "output_type": "stream",
     "text": [
      "Image size is  224\n",
      "index initializing....\n",
      "number of training instances:  3000\n",
      "Image size is  224\n",
      "mining complete!\n",
      "Image size is  224\n",
      "training complete!\n",
      "inferring complete!\n"
     ]
    },
    {
     "name": "stderr",
     "output_type": "stream",
     "text": [
      "RandomBucketter: 100%|██████████| 7499/7499 [02:55<00:00, 42.79it/s]\n",
      "FPFBucketter: 100%|██████████| 22500/22500 [09:09<00:00, 40.93it/s]\n",
      "100%|██████████| 300000/300000 [04:38<00:00, 1078.71it/s]\n"
     ]
    },
    {
     "name": "stdout",
     "output_type": "stream",
     "text": [
      "bucketing complete!\n"
     ]
    },
    {
     "data": {
      "application/vnd.jupyter.widget-view+json": {
       "model_id": "08ae9e87ed834725840c70c0fed51b89",
       "version_major": 2,
       "version_minor": 0
      },
      "text/plain": [
       "Target DNN Invocations:   0%|          | 0/30000 [00:00<?, ?it/s]"
      ]
     },
     "metadata": {},
     "output_type": "display_data"
    }
   ],
   "source": [
    "from src.motivation.main import execute_tastipt\n",
    "\n",
    "tastipt = execute_tastipt(images, video_name, redo = False, category = category, image_size = 224, nb_buckets = anchor_count)\n",
    "\n"
   ]
  },
  {
   "cell_type": "code",
   "execution_count": 16,
   "id": "14496728-d565-4d2e-8087-c2dcbee37d70",
   "metadata": {},
   "outputs": [
    {
     "data": {
      "application/vnd.jupyter.widget-view+json": {
       "model_id": "836ccc5b75364e269f0c0ec322b3ae2a",
       "version_major": 2,
       "version_minor": 0
      },
      "text/plain": [
       "Propagation:   0%|          | 0/300000 [00:00<?, ?it/s]"
      ]
     },
     "metadata": {},
     "output_type": "display_data"
    },
    {
     "name": "stdout",
     "output_type": "stream",
     "text": [
      "r 2.0\n",
      "NightStreetAggregateQuery\n",
      "---------------------------  --------------------------------------------------------------------------------------------------------------------------------------------------------------------------------------\n",
      "initial_estimate             2709.32173241682\n",
      "debiased_estimate            203.7208260915989\n",
      "nb_samples                   321\n",
      "y_pred                       [    0.80435     0.80877     0.80818 ...           0           0           0]\n",
      "y_true                       [DNNOutputCacheFloat(idx=0) DNNOutputCacheFloat(idx=1) DNNOutputCacheFloat(idx=2) ... DNNOutputCacheFloat(idx=299997) DNNOutputCacheFloat(idx=299998) DNNOutputCacheFloat(idx=299999)]\n",
      "actual_estimate              2801.0\n"
     ]
    },
    {
     "data": {
      "text/plain": [
       "12.973769970238209"
      ]
     },
     "execution_count": 16,
     "metadata": {},
     "output_type": "execute_result"
    }
   ],
   "source": [
    "st = time.perf_counter()\n",
    "\n",
    "query, times = query_process_aggregate(tastipt)\n",
    "et = time.perf_counter()\n",
    "et - st"
   ]
  },
  {
   "cell_type": "code",
   "execution_count": null,
   "id": "2de886e2-0e75-433c-ba29-3883a29ddfdf",
   "metadata": {},
   "outputs": [],
   "source": []
  },
  {
   "cell_type": "code",
   "execution_count": null,
   "id": "f6f9800f-f1f5-4583-bfa7-ba17f915bdf0",
   "metadata": {},
   "outputs": [],
   "source": []
  },
  {
   "cell_type": "code",
   "execution_count": null,
   "id": "d431b0c4-4c7c-4b13-8f23-1ed27ebc23fe",
   "metadata": {},
   "outputs": [],
   "source": []
  },
  {
   "cell_type": "code",
   "execution_count": 8,
   "id": "38535b55-b285-40ae-aac4-7600a02b86ce",
   "metadata": {},
   "outputs": [],
   "source": [
    "### Cherry Q1\n",
    "import numpy as np\n",
    "\n",
    "### Cherry Q1\n",
    "THR = 1 / 140\n",
    "\n",
    "cherry_lp = np.array([0, 0, 3, 2])\n",
    "cherry_pp = np.array([352, 1000, 338, 351]) * THR\n",
    "\n",
    "\n",
    "detrac_lp = np.array([0, 0, 3, 2])\n",
    "detrac_pp = np.array([3944, 10000, 2268, 2458]) * THR\n",
    "\n",
    "dashcam_lp = np.array([0, 0, 3, 2])\n",
    "dashcam_pp = np.array([644, 1000, 568, 874]) * THR\n",
    "\n",
    "jackson_lp = np.array([0, 0, 8, 8])\n",
    "jackson_pp = np.array([166, 1000, 321, 309]) * THR\n",
    "\n",
    "\n"
   ]
  },
  {
   "cell_type": "code",
   "execution_count": 9,
   "id": "7f3697d0-0e9b-44f9-bb1c-eeb685500410",
   "metadata": {},
   "outputs": [],
   "source": [
    "cherry_t = cherry_lp + cherry_pp\n",
    "detrac_t = detrac_lp + detrac_pp\n",
    "dashcam_t = dashcam_lp + dashcam_pp\n",
    "jackson_t = jackson_lp + jackson_pp"
   ]
  },
  {
   "cell_type": "code",
   "execution_count": 10,
   "id": "cafcb1dd-839e-49cc-91f4-1f9b04ec7857",
   "metadata": {},
   "outputs": [
    {
     "data": {
      "text/plain": [
       "(array([     9.3929,      8.2357,      8.6643,      7.2643]),\n",
       " array([     175.09,      98.693,      61.693,      59.329]),\n",
       " array([     54.064,      27.586,      25.964,      22.029]),\n",
       " array([       3.05,      2.8571,      11.557,      11.543]))"
      ]
     },
     "execution_count": 10,
     "metadata": {},
     "output_type": "execute_result"
    }
   ],
   "source": [
    "cherry_t, detrac_t, dashcam_t, jackson_t\n"
   ]
  },
  {
   "cell_type": "code",
   "execution_count": 12,
   "id": "89265c5c-9d54-46c4-85a5-0443ef63d702",
   "metadata": {},
   "outputs": [
    {
     "data": {
      "text/plain": [
       "(array([0.80152091, 0.91413703, 0.86892003, 1.        ]),\n",
       " array([0.34444354, 0.61105884, 0.9775385 , 1.        ]),\n",
       " array([0.41220769, 0.80787157, 0.85832187, 1.        ]),\n",
       " array([3.78454333, 4.04      , 0.99876391, 1.        ]))"
      ]
     },
     "execution_count": 12,
     "metadata": {},
     "output_type": "execute_result"
    }
   ],
   "source": [
    "### we want to compute on average how much faster is EKO compared to other methods?\n",
    "cherry_t[3] / cherry_t , detrac_t[3] / detrac_t , dashcam_t[3] / dashcam_t , jackson_t[3] / jackson_t\n",
    "\n"
   ]
  },
  {
   "cell_type": "code",
   "execution_count": 13,
   "id": "23110fb8-52be-4422-b90b-6d61053d2158",
   "metadata": {},
   "outputs": [
    {
     "data": {
      "text/plain": [
       "array([0.26423267, 0.24752475, 1.00123762, 1.        ])"
      ]
     },
     "execution_count": 13,
     "metadata": {},
     "output_type": "execute_result"
    }
   ],
   "source": [
    "jackson_t / jackson_t[3]"
   ]
  },
  {
   "cell_type": "code",
   "execution_count": 16,
   "id": "cb423cc0-c551-4b73-a092-9e7bebf0056c",
   "metadata": {},
   "outputs": [
    {
     "data": {
      "text/plain": [
       "6.666666666666667"
      ]
     },
     "execution_count": 16,
     "metadata": {},
     "output_type": "execute_result"
    }
   ],
   "source": [
    "(14 + 3 + 3) / 3"
   ]
  },
  {
   "cell_type": "code",
   "execution_count": 11,
   "id": "3fbc03dd-b918-4b2d-b2c3-4b82afcb4d16",
   "metadata": {},
   "outputs": [
    {
     "name": "stderr",
     "output_type": "stream",
     "text": [
      "<ipython-input-11-d59d37ee1b58>:36: UserWarning: FixedFormatter should only be used together with FixedLocator\n",
      "  axes[i][j].set_xticklabels(x_axis_names, rotation = 30, ha = 'right',rotation_mode='anchor')\n",
      "<ipython-input-11-d59d37ee1b58>:47: UserWarning: FixedFormatter should only be used together with FixedLocator\n",
      "  axes[i][j].set_xticklabels(x_axis_names, rotation = 30, ha = 'right', rotation_mode='anchor')\n",
      "<ipython-input-11-d59d37ee1b58>:54: UserWarning: FixedFormatter should only be used together with FixedLocator\n",
      "  axes[i][j].set_xticklabels(x_axis_names, rotation = 30, ha = 'right', rotation_mode='anchor')\n",
      "<ipython-input-11-d59d37ee1b58>:66: UserWarning: FixedFormatter should only be used together with FixedLocator\n",
      "  axes[i][j].set_xticklabels(x_axis_names, rotation = 30, ha = 'right', rotation_mode='anchor')\n"
     ]
    },
    {
     "data": {
      "image/png": "[encoded data removed]",
      "text/plain": [
       "<Figure size 576x360 with 4 Axes>"
      ]
     },
     "metadata": {
      "needs_background": "light"
     },
     "output_type": "display_data"
    }
   ],
   "source": [
    "import numpy as np\n",
    "import matplotlib.pyplot as plt\n",
    "%matplotlib inline\n",
    "import matplotlib\n",
    "\n",
    "font = {\n",
    "        'weight' : 'bold',\n",
    "        'size'   : 15}\n",
    "\n",
    "matplotlib.rc('font', **font)\n",
    "matplotlib.rc('ytick', labelsize=15)\n",
    "\n",
    "\n",
    "x_axis_names = ['SVM', 'Resnet-18', 'TASTI-PT', 'EKO']\n",
    "\n",
    "x = np.arange(len(x_axis_names))\n",
    "\n",
    "\n",
    "### we need to do subplots\n",
    "rows = 2\n",
    "columns = 2\n",
    "fig_size = (8, 5)\n",
    "fig, axes = plt.subplots(rows, columns, sharey = False, sharex=True, figsize=fig_size)\n",
    "\n",
    "\n",
    "i = 0\n",
    "j = 0\n",
    "width = 0.6\n",
    "\n",
    "axes[i][j].bar(x_axis_names, cherry_lp, width, label='Label Propagation')\n",
    "axes[i][j].bar(x_axis_names, cherry_pp, width, bottom = cherry_lp, label='Post Processing', color = 'lightsteelblue')\n",
    "axes[i][j].set_ylabel('Time (s)', weight = 'bold', size = 15)\n",
    "#axes[i][j].set_ylim(0, 200)\n",
    "#axes[i][j].set_yticks([0, 50, 100, 150, 200])\n",
    "\n",
    "axes[i][j].set_xticklabels(x_axis_names, rotation = 30, ha = 'right',rotation_mode='anchor')\n",
    "#plt.ylim(0, 2)\n",
    "#plt.xticks(x, x_axis_names)\n",
    "axes[i][j].set_title('Cherry', weight = 'bold', size = 15)\n",
    "\n",
    "\n",
    "i = 0\n",
    "j = 1\n",
    "axes[i][j].bar(x_axis_names, detrac_lp, width, label='Label Propagation')\n",
    "axes[i][j].bar(x_axis_names, detrac_pp, width, bottom = detrac_lp, label='Post Processing', color = 'lightsteelblue')\n",
    "axes[i][j].set_title('UA-DETRAC', weight = 'bold', size = 15)\n",
    "axes[i][j].set_xticklabels(x_axis_names, rotation = 30, ha = 'right', rotation_mode='anchor')\n",
    "\n",
    "\n",
    "i = 1\n",
    "j = 0\n",
    "axes[i][j].bar(x_axis_names, dashcam_lp, width, label='Label Propagation')\n",
    "axes[i][j].bar(x_axis_names, dashcam_pp, width, bottom = dashcam_lp, label='Post Processing', color = 'lightsteelblue')\n",
    "axes[i][j].set_xticklabels(x_axis_names, rotation = 30, ha = 'right', rotation_mode='anchor')\n",
    "axes[i][j].set_ylabel('Time (s)', weight = 'bold', size = 15)\n",
    "\n",
    "axes[i][j].set_title('Dashcam', weight = 'bold', size = 15)\n",
    "\n",
    "\n",
    "i = 1\n",
    "j = 1\n",
    "axes[i][j].bar(x_axis_names, jackson_lp, width, label='Label Propagation')\n",
    "axes[i][j].bar(x_axis_names, jackson_pp, width, bottom = jackson_lp, label='Post Processing', color = 'lightsteelblue')\n",
    "\n",
    "axes[i][j].set_title('Jackson', weight = 'bold', size = 15)\n",
    "axes[i][j].set_xticklabels(x_axis_names, rotation = 30, ha = 'right', rotation_mode='anchor')\n",
    "\n",
    "\n",
    "plt.tight_layout()\n",
    "\n",
    "plt.legend(loc='upper center', bbox_to_anchor=(-0.15, 3.1),\n",
    "          fancybox=True, shadow=True, ncol=10)\n",
    "#plt.legend()\n",
    "plt.savefig('plots/query-execution-q1.png')\n",
    "plt.show()"
   ]
  },
  {
   "cell_type": "code",
   "execution_count": null,
   "id": "ffaf9bed-a8ba-4e46-8785-08880ad95f7a",
   "metadata": {},
   "outputs": [],
   "source": []
  },
  {
   "cell_type": "code",
   "execution_count": null,
   "id": "db2e25b0-46dc-4639-b1e5-ffe5d7b33cbf",
   "metadata": {},
   "outputs": [],
   "source": []
  },
  {
   "cell_type": "code",
   "execution_count": null,
   "id": "2c509e78-4419-4309-b1f7-202cab08387c",
   "metadata": {},
   "outputs": [],
   "source": []
  },
  {
   "cell_type": "code",
   "execution_count": null,
   "id": "1b545fe1-83cc-4b5d-b4d2-75ae5bc63c64",
   "metadata": {},
   "outputs": [],
   "source": []
  },
  {
   "cell_type": "markdown",
   "id": "ee6447ff-635a-46f3-8d27-24238dc5feb5",
   "metadata": {},
   "source": [
    "### OLD Graphs"
   ]
  },
  {
   "cell_type": "code",
   "execution_count": null,
   "id": "7502e52a-9786-4fc7-b50d-d47f07d10f06",
   "metadata": {},
   "outputs": [],
   "source": []
  },
  {
   "cell_type": "code",
   "execution_count": null,
   "id": "c2f9a3ec-fb19-4f06-bcd1-40825e79f1dc",
   "metadata": {},
   "outputs": [],
   "source": [
    "THR = 1 / 140\n",
    "\n",
    "\n",
    "#### Q1\n",
    "x_axis_names = ['SVM', 'Resnet-18', 'TASTI-PT', 'EKO']\n",
    "cherry_q1_others = [0, 0, 4.2, 3.9]\n",
    "cherry_q1_post = [3300 * THR, 2545 * THR, 1892 * THR, 1829 * THR]\n",
    "\n",
    "#### Q2\n",
    "cherry_q2_others = [0, 0, 4.2, 3.9]\n",
    "cherry_q2_post = [1219 * THR, 886 * THR, 779 * THR, 778 * THR]\n",
    "\n",
    "#### Q3\n",
    "cherry_q3_others = [0, 0, 4.2, 3.9]\n",
    "cherry_q3_post = [1219 * THR, 886 * THR, 779 * THR, 778 * THR]\n",
    "\n",
    "\n",
    "#### Q1\n",
    "detrac_q1_others = [0, 0, 4.2, 3.9]\n",
    "detrac_q1_post = [1219 * THR, 886 * THR, 779 * THR, 778 * THR]\n",
    "\n",
    "\n",
    "#### Q2\n",
    "detrac_q2_others = [0, 0, 4.2, 3.9]\n",
    "detrac_q2_post = [1219 * THR, 886 * THR, 779 * THR, 778 * THR]\n",
    "\n",
    "\n",
    "#### Q3\n",
    "detrac_q3_others = [0, 0, 4.2, 3.9]\n",
    "detrac_q3_post = [1219 * THR, 886 * THR, 779 * THR, 778 * THR]\n",
    "\n",
    "\n",
    "#### Q1\n",
    "dashcam_q1_others = [0, 0, 4.2, 3.9]\n",
    "dashcam_q1_post = [1219 * THR, 886 * THR, 779 * THR, 778 * THR]\n",
    "\n",
    "\n",
    "#### Q2\n",
    "dashcam_q2_others = [0, 0, 4.2, 3.9]\n",
    "dashcam_q2_post = [1219 * THR, 886 * THR, 779 * THR, 778 * THR]\n",
    "\n",
    "\n",
    "#### Q3\n",
    "dashcam_q3_others = [0, 0, 4.2, 3.9]\n",
    "dashcam_q3_post = [1219 * THR, 886 * THR, 779 * THR, 778 * THR]\n",
    "\n",
    "\n",
    "#### Q1\n",
    "jackson_q1_others = [0, 0, 4.2, 3.9]\n",
    "jackson_q1_post = [1219 * THR, 886 * THR, 779 * THR, 778 * THR]\n",
    "\n",
    "\n",
    "#### Q2\n",
    "jackson_q2_others = [0, 0, 4.2, 3.9]\n",
    "jackson_q2_post = [1219 * THR, 886 * THR, 779 * THR, 778 * THR]\n",
    "\n",
    "\n",
    "#### Q3\n",
    "jackson_q3_others = [0, 0, 4.2, 3.9]\n",
    "jackson_q3_post = [1219 * THR, 886 * THR, 779 * THR, 778 * THR]\n",
    "\n",
    "\n",
    "\n",
    "import numpy as np\n",
    "import matplotlib.pyplot as plt\n",
    "%matplotlib inline\n",
    "\n",
    "\n",
    "### we need to do subplots\n",
    "rows = 1\n",
    "columns = 3\n",
    "i = 1\n",
    "fig = plt.figure(figsize = (15,3))\n",
    "fig.add_subplot(rows, columns, i)\n",
    "plt.bar(x - width, cherry_values, width, label = 'Cherry')\n",
    "plt.bar(x, ua_values, width, label = 'UA_DETRAC')\n",
    "plt.bar(x + width, da_values, width, label = 'Dashcam')\n",
    "plt.ylabel('Time (s)')\n",
    "plt.xticks(x, x_axis_names)\n",
    "plt.title('Q1 -- Aggregate')\n",
    "\n",
    "\n",
    "i = 2\n",
    "fig.add_subplot(rows, columns, i)\n",
    "plt.bar(x - width, cherry_values, width, label = 'Cherry')\n",
    "plt.bar(x, ua_values, width, label = 'UA_DETRAC')\n",
    "plt.bar(x + width, da_values, width, label = 'Dashcam')\n",
    "plt.xticks(x, x_axis_names)\n",
    "plt.title('Q2 -- Precision')\n",
    "\n",
    "\n",
    "\n",
    "i = 3\n",
    "fig.add_subplot(rows, columns, i)\n",
    "plt.bar(x - width, cherry_values, width, label = 'Cherry')\n",
    "plt.bar(x, ua_values, width, label = 'UA_DETRAC')\n",
    "plt.bar(x + width, da_values, width, label = 'Dashcam')\n",
    "plt.xticks(x, x_axis_names)\n",
    "plt.title('Q3 -- Recall')\n",
    "\n",
    "\n",
    "\n",
    "\n",
    "plt.xticks(x, x_axis_names)\n",
    "plt.legend()\n",
    "plt.show()\n",
    "\n"
   ]
  },
  {
   "cell_type": "code",
   "execution_count": null,
   "id": "58352758-0fce-462b-b10a-308797267ca2",
   "metadata": {},
   "outputs": [],
   "source": []
  },
  {
   "cell_type": "code",
   "execution_count": null,
   "id": "38ca18fd-1aec-40cf-adfc-e967c752d127",
   "metadata": {},
   "outputs": [],
   "source": [
    "### TODO: Need to include the YOLOv5 inference time for EKO -- this is pretty significant"
   ]
  },
  {
   "cell_type": "code",
   "execution_count": 14,
   "id": "7c7a6942-7f1d-4ddb-993f-46e8fa9d410d",
   "metadata": {},
   "outputs": [
    {
     "data": {
      "image/png": "[encoded data removed]",
      "text/plain": [
       "<Figure size 1080x216 with 3 Axes>"
      ]
     },
     "metadata": {
      "needs_background": "light"
     },
     "output_type": "display_data"
    }
   ],
   "source": [
    "### generate the outcome graph first \n",
    "import numpy as np\n",
    "import matplotlib.pyplot as plt\n",
    "%matplotlib inline\n",
    "### drawing function for the graph\n",
    "\n",
    "#### Q1 values\n",
    "\n",
    "x_axis_names = ['YOLOv5', 'TASTI-PT', 'EKO']\n",
    "cherry_values = [0, 9.68, 9.5]\n",
    "ua_values = [0, 61.25, 65.4]\n",
    "da_values = [0, 3.3 + 21.47, 2.9 + 22.17]\n",
    "\n",
    "\n",
    "##### Q2 values\n",
    "cherry_values = [0, 4.48 + 7.14, 4.26 + 7.14]\n",
    "ua_values = [0, 11.18, 12.94]\n",
    "da_values = [0, 3.57 + 7.14, 3.4 + 7.14]\n",
    "\n",
    "##### Q3 values\n",
    "cherry_values = [0, 4.56 + 7.14, 4.32 + 7.14]\n",
    "ua_values = [0, 11.84, 11.04]\n",
    "da_values = [0, 3.4 + 7.14, 3.4 + 7.14]\n",
    "\n",
    "\n",
    "x = np.arange(len(x_axis_names))\n",
    "width = 0.2\n",
    "\n",
    "\n",
    "### we need to do subplots\n",
    "rows = 1\n",
    "columns = 3\n",
    "i = 1\n",
    "fig = plt.figure(figsize = (15,3))\n",
    "fig.add_subplot(rows, columns, i)\n",
    "plt.bar(x - width, cherry_values, width, label = 'Cherry')\n",
    "plt.bar(x, ua_values, width, label = 'UA_DETRAC')\n",
    "plt.bar(x + width, da_values, width, label = 'Dashcam')\n",
    "plt.ylabel('Time (s)')\n",
    "plt.xticks(x, x_axis_names)\n",
    "plt.title('Q1 -- Aggregate')\n",
    "\n",
    "\n",
    "\n",
    "\n",
    "\n",
    "i = 2\n",
    "fig.add_subplot(rows, columns, i)\n",
    "plt.bar(x - width, cherry_values, width, label = 'Cherry')\n",
    "plt.bar(x, ua_values, width, label = 'UA_DETRAC')\n",
    "plt.bar(x + width, da_values, width, label = 'Dashcam')\n",
    "plt.xticks(x, x_axis_names)\n",
    "plt.title('Q2 -- Precision')\n",
    "\n",
    "\n",
    "\n",
    "i = 3\n",
    "fig.add_subplot(rows, columns, i)\n",
    "plt.bar(x - width, cherry_values, width, label = 'Cherry')\n",
    "plt.bar(x, ua_values, width, label = 'UA_DETRAC')\n",
    "plt.bar(x + width, da_values, width, label = 'Dashcam')\n",
    "plt.xticks(x, x_axis_names)\n",
    "plt.title('Q3 -- Recall')\n",
    "\n",
    "\n",
    "\n",
    "\n",
    "plt.xticks(x, x_axis_names)\n",
    "plt.legend()\n",
    "plt.show()\n"
   ]
  },
  {
   "cell_type": "code",
   "execution_count": 15,
   "id": "6d10bd56-050d-4722-9312-6b0f384da566",
   "metadata": {},
   "outputs": [],
   "source": [
    "cherry_values = [0, 9.68, 9.5]\n",
    "ua_values = [0, 61.25, 65.4]\n",
    "da_values = [0, 3.3 + 21.47, 2.9 + 22.17]\n",
    "\n",
    "\n",
    "##### Q2 values\n",
    "cherry_values2 = [0, 4.48 + 7.14, 4.26 + 7.14]\n",
    "ua_values2 = [0, 11.18, 12.94]\n",
    "da_values2 = [0, 3.57 + 7.14, 3.4 + 7.14]\n",
    "\n",
    "##### Q3 values\n",
    "cherry_values3 = [0, 4.56 + 7.14, 4.32 + 7.14]\n",
    "ua_values3 = [0, 11.84, 11.04]\n",
    "da_values3 = [0, 3.4 + 7.14, 3.4 + 7.14]"
   ]
  },
  {
   "cell_type": "code",
   "execution_count": 17,
   "id": "4dd49179-99c3-4125-9e4f-95dd09d460eb",
   "metadata": {},
   "outputs": [
    {
     "data": {
      "text/plain": [
       "array([          0,      18.143,      18.654])"
      ]
     },
     "execution_count": 17,
     "metadata": {},
     "output_type": "execute_result"
    }
   ],
   "source": [
    "tmp = np.array([cherry_values, ua_values, da_values, cherry_values2, ua_values2, da_values2, cherry_values3, ua_values3, da_values3])\n",
    "tmp.mean(axis = 0)"
   ]
  },
  {
   "cell_type": "code",
   "execution_count": 18,
   "id": "345f2553-55bb-4841-848a-3a8dc9a2816f",
   "metadata": {},
   "outputs": [
    {
     "name": "stdout",
     "output_type": "stream",
     "text": [
      "hello world\n"
     ]
    }
   ],
   "source": [
    "print('hello world')"
   ]
  },
  {
   "cell_type": "code",
   "execution_count": null,
   "id": "f780a99b-518b-4dc0-981c-14785655dbbb",
   "metadata": {},
   "outputs": [],
   "source": []
  }
 ],
 "metadata": {
  "kernelspec": {
   "display_name": "Python 3",
   "language": "python",
   "name": "python3"
  },
  "language_info": {
   "codemirror_mode": {
    "name": "ipython",
    "version": 3
   },
   "file_extension": ".py",
   "mimetype": "text/x-python",
   "name": "python",
   "nbconvert_exporter": "python",
   "pygments_lexer": "ipython3",
   "version": "3.9.7"
  }
 },
 "nbformat": 4,
 "nbformat_minor": 5
}
